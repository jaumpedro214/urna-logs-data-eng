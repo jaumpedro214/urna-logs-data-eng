{
 "cells": [
  {
   "cell_type": "markdown",
   "metadata": {},
   "source": [
    "# Performance das Consultas"
   ]
  },
  {
   "cell_type": "markdown",
   "metadata": {},
   "source": [
    "## Importando Bibliotecas"
   ]
  },
  {
   "cell_type": "code",
   "execution_count": 1,
   "metadata": {},
   "outputs": [],
   "source": [
    "import duckdb\n",
    "import time"
   ]
  },
  {
   "cell_type": "markdown",
   "metadata": {},
   "source": [
    "## Conectando à base de dados"
   ]
  },
  {
   "cell_type": "code",
   "execution_count": 2,
   "metadata": {},
   "outputs": [],
   "source": [
    "cursor = duckdb.connect()\n",
    "DATABASE = '*.parquet'"
   ]
  },
  {
   "cell_type": "markdown",
   "metadata": {},
   "source": [
    "## Consultas"
   ]
  },
  {
   "cell_type": "markdown",
   "metadata": {},
   "source": [
    "### Quantidade de Registros"
   ]
  },
  {
   "cell_type": "code",
   "execution_count": 3,
   "metadata": {},
   "outputs": [],
   "source": [
    "query = f\"SELECT COUNT(*) FROM '{DATABASE}'\""
   ]
  },
  {
   "cell_type": "code",
   "execution_count": 4,
   "metadata": {},
   "outputs": [
    {
     "name": "stdout",
     "output_type": "stream",
     "text": [
      "Number of rows: 4,283,329,488\n",
      "Time: 1.47s\n"
     ]
    }
   ],
   "source": [
    "tic = time.time()\n",
    "\n",
    "cursor.execute(query)\n",
    "n_rows = cursor.fetchone()\n",
    "\n",
    "toc = time.time()\n",
    "\n",
    "print(f\"Number of rows: {n_rows[0]:,}\")\n",
    "print(f\"Time: {toc - tic:.2f}s\")"
   ]
  },
  {
   "cell_type": "markdown",
   "metadata": {},
   "source": [
    "### Primeiros Registros"
   ]
  },
  {
   "cell_type": "code",
   "execution_count": 6,
   "metadata": {},
   "outputs": [
    {
     "name": "stdout",
     "output_type": "stream",
     "text": [
      "Time: 0.82s\n"
     ]
    },
    {
     "data": {
      "text/html": [
       "<div>\n",
       "<style scoped>\n",
       "    .dataframe tbody tr th:only-of-type {\n",
       "        vertical-align: middle;\n",
       "    }\n",
       "\n",
       "    .dataframe tbody tr th {\n",
       "        vertical-align: top;\n",
       "    }\n",
       "\n",
       "    .dataframe thead th {\n",
       "        text-align: right;\n",
       "    }\n",
       "</style>\n",
       "<table border=\"1\" class=\"dataframe\">\n",
       "  <thead>\n",
       "    <tr style=\"text-align: right;\">\n",
       "      <th></th>\n",
       "      <th>event_timestamp</th>\n",
       "      <th>event_type</th>\n",
       "      <th>some_id</th>\n",
       "      <th>event_system</th>\n",
       "      <th>event_description</th>\n",
       "      <th>event_id</th>\n",
       "      <th>filename</th>\n",
       "    </tr>\n",
       "  </thead>\n",
       "  <tbody>\n",
       "    <tr>\n",
       "      <th>0</th>\n",
       "      <td>2022-10-26 10:39:36</td>\n",
       "      <td>INFO</td>\n",
       "      <td>67305985</td>\n",
       "      <td>LOGD</td>\n",
       "      <td>Início das operações do logd</td>\n",
       "      <td>E2C58C3021D6DB87</td>\n",
       "      <td>/data/logs/2_AC/o00407-0100700090001_new.csv</td>\n",
       "    </tr>\n",
       "    <tr>\n",
       "      <th>1</th>\n",
       "      <td>2022-10-26 10:39:36</td>\n",
       "      <td>INFO</td>\n",
       "      <td>67305985</td>\n",
       "      <td>LOGD</td>\n",
       "      <td>Urna ligada em 26/10/2022 às 10:38:20</td>\n",
       "      <td>DFBD462E26E8F1EA</td>\n",
       "      <td>/data/logs/2_AC/o00407-0100700090001_new.csv</td>\n",
       "    </tr>\n",
       "    <tr>\n",
       "      <th>2</th>\n",
       "      <td>2022-10-26 10:39:36</td>\n",
       "      <td>INFO</td>\n",
       "      <td>67305985</td>\n",
       "      <td>SCUE</td>\n",
       "      <td>Iniciando aplicação - Oficial - 1º turno</td>\n",
       "      <td>B8E2CBFADB3EF46B</td>\n",
       "      <td>/data/logs/2_AC/o00407-0100700090001_new.csv</td>\n",
       "    </tr>\n",
       "    <tr>\n",
       "      <th>3</th>\n",
       "      <td>2022-10-26 10:39:36</td>\n",
       "      <td>INFO</td>\n",
       "      <td>67305985</td>\n",
       "      <td>SCUE</td>\n",
       "      <td>Versão da aplicação: 8.26.0.0 - Onça-pintada</td>\n",
       "      <td>AC76A5B17419CB2E</td>\n",
       "      <td>/data/logs/2_AC/o00407-0100700090001_new.csv</td>\n",
       "    </tr>\n",
       "    <tr>\n",
       "      <th>4</th>\n",
       "      <td>2022-10-26 10:39:38</td>\n",
       "      <td>INFO</td>\n",
       "      <td>67305985</td>\n",
       "      <td>SCUE</td>\n",
       "      <td>Urna operando com rede elétrica</td>\n",
       "      <td>ED0703CBF6110D2C</td>\n",
       "      <td>/data/logs/2_AC/o00407-0100700090001_new.csv</td>\n",
       "    </tr>\n",
       "  </tbody>\n",
       "</table>\n",
       "</div>"
      ],
      "text/plain": [
       "      event_timestamp event_type   some_id event_system  \\\n",
       "0 2022-10-26 10:39:36       INFO  67305985         LOGD   \n",
       "1 2022-10-26 10:39:36       INFO  67305985         LOGD   \n",
       "2 2022-10-26 10:39:36       INFO  67305985         SCUE   \n",
       "3 2022-10-26 10:39:36       INFO  67305985         SCUE   \n",
       "4 2022-10-26 10:39:38       INFO  67305985         SCUE   \n",
       "\n",
       "                              event_description          event_id  \\\n",
       "0                  Início das operações do logd  E2C58C3021D6DB87   \n",
       "1         Urna ligada em 26/10/2022 às 10:38:20  DFBD462E26E8F1EA   \n",
       "2      Iniciando aplicação - Oficial - 1º turno  B8E2CBFADB3EF46B   \n",
       "3  Versão da aplicação: 8.26.0.0 - Onça-pintada  AC76A5B17419CB2E   \n",
       "4               Urna operando com rede elétrica  ED0703CBF6110D2C   \n",
       "\n",
       "                                       filename  \n",
       "0  /data/logs/2_AC/o00407-0100700090001_new.csv  \n",
       "1  /data/logs/2_AC/o00407-0100700090001_new.csv  \n",
       "2  /data/logs/2_AC/o00407-0100700090001_new.csv  \n",
       "3  /data/logs/2_AC/o00407-0100700090001_new.csv  \n",
       "4  /data/logs/2_AC/o00407-0100700090001_new.csv  "
      ]
     },
     "execution_count": 6,
     "metadata": {},
     "output_type": "execute_result"
    }
   ],
   "source": [
    "query = f\"\"\"\n",
    "    SELECT \n",
    "        *\n",
    "    FROM '{DATABASE}' LIMIT 5\n",
    "\"\"\"\n",
    "\n",
    "tic = time.time()\n",
    "cursor.execute(query)\n",
    "df_result = cursor.df()\n",
    "toc = time.time()\n",
    "\n",
    "print(f\"Time: {toc - tic:.2f}s\")\n",
    "df_result"
   ]
  },
  {
   "cell_type": "markdown",
   "metadata": {},
   "source": [
    "### Primeiros registros + filtro RN"
   ]
  },
  {
   "cell_type": "code",
   "execution_count": 7,
   "metadata": {},
   "outputs": [
    {
     "name": "stdout",
     "output_type": "stream",
     "text": [
      "Time: 69.65s\n"
     ]
    }
   ],
   "source": [
    "query = f\"\"\"\n",
    "    SELECT \n",
    "        *\n",
    "    FROM '{DATABASE}'\n",
    "    WHERE filename ILIKE '%RN%'\n",
    "    LIMIT 500\n",
    "\"\"\"\n",
    "\n",
    "tic = time.time()\n",
    "cursor.execute(query)\n",
    "df_result = cursor.df()\n",
    "toc = time.time()\n",
    "\n",
    "print(f\"Time: {toc - tic:.2f}s\")"
   ]
  },
  {
   "cell_type": "code",
   "execution_count": 11,
   "metadata": {},
   "outputs": [
    {
     "name": "stdout",
     "output_type": "stream",
     "text": [
      "Time: 91.12s\n"
     ]
    }
   ],
   "source": [
    "query = f\"\"\"\n",
    "    SELECT \n",
    "        *\n",
    "    FROM '{DATABASE}'\n",
    "    WHERE filename ILIKE '%SP%'\n",
    "    LIMIT 500\n",
    "\"\"\"\n",
    "\n",
    "tic = time.time()\n",
    "cursor.execute(query)\n",
    "df_result = cursor.df()\n",
    "toc = time.time()\n",
    "\n",
    "print(f\"Time: {toc - tic:.2f}s\")"
   ]
  },
  {
   "cell_type": "markdown",
   "metadata": {},
   "source": [
    "### Distinct"
   ]
  },
  {
   "cell_type": "markdown",
   "metadata": {},
   "source": [
    "event_type"
   ]
  },
  {
   "cell_type": "code",
   "execution_count": 12,
   "metadata": {},
   "outputs": [
    {
     "name": "stdout",
     "output_type": "stream",
     "text": [
      "Time: 5.69s\n"
     ]
    }
   ],
   "source": [
    "query = f\"\"\"\n",
    "    SELECT DISTINCT\n",
    "        event_type\n",
    "    FROM '{DATABASE}'\n",
    "\"\"\"\n",
    "\n",
    "tic = time.time()\n",
    "cursor.execute(query)\n",
    "df_result = cursor.df()\n",
    "toc = time.time()\n",
    "\n",
    "print(f\"Time: {toc - tic:.2f}s\")"
   ]
  },
  {
   "cell_type": "markdown",
   "metadata": {},
   "source": [
    "event_description"
   ]
  },
  {
   "cell_type": "code",
   "execution_count": 14,
   "metadata": {},
   "outputs": [
    {
     "name": "stdout",
     "output_type": "stream",
     "text": [
      "Time: 29.33s\n"
     ]
    }
   ],
   "source": [
    "query = f\"\"\"\n",
    "    SELECT DISTINCT\n",
    "        event_description\n",
    "    FROM '{DATABASE}'\n",
    "\"\"\"\n",
    "\n",
    "tic = time.time()\n",
    "cursor.execute(query)\n",
    "df_result = cursor.df()\n",
    "toc = time.time()\n",
    "\n",
    "print(f\"Time: {toc - tic:.2f}s\")"
   ]
  },
  {
   "cell_type": "code",
   "execution_count": null,
   "metadata": {},
   "outputs": [],
   "source": []
  }
 ],
 "metadata": {
  "kernelspec": {
   "display_name": "Python 3 (ipykernel)",
   "language": "python",
   "name": "python3"
  },
  "language_info": {
   "codemirror_mode": {
    "name": "ipython",
    "version": 3
   },
   "file_extension": ".py",
   "mimetype": "text/x-python",
   "name": "python",
   "nbconvert_exporter": "python",
   "pygments_lexer": "ipython3",
   "version": "3.11.6"
  }
 },
 "nbformat": 4,
 "nbformat_minor": 2
}
