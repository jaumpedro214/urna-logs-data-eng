{
 "cells": [
  {
   "cell_type": "markdown",
   "metadata": {},
   "source": [
    "# Performance das Consultas"
   ]
  },
  {
   "cell_type": "markdown",
   "metadata": {},
   "source": [
    "## Importando Bibliotecas"
   ]
  },
  {
   "cell_type": "code",
   "execution_count": 1,
   "metadata": {},
   "outputs": [],
   "source": [
    "import duckdb\n",
    "import time"
   ]
  },
  {
   "cell_type": "markdown",
   "metadata": {},
   "source": [
    "## Conectando à base de dados"
   ]
  },
  {
   "cell_type": "code",
   "execution_count": 2,
   "metadata": {},
   "outputs": [],
   "source": [
    "cursor = duckdb.connect()\n",
    "DATABASE = '*.parquet'"
   ]
  },
  {
   "cell_type": "code",
   "execution_count": 14,
   "metadata": {},
   "outputs": [],
   "source": [
    "def execute_query_and_calculate_time(cursor, query, return_df=False):\n",
    "    \n",
    "    if return_df:\n",
    "        tic = time.time()\n",
    "        cursor.execute(query)\n",
    "        df = cursor.df()\n",
    "        toc = time.time()\n",
    "        return df, toc - tic\n",
    "    else:\n",
    "        tic = time.time()\n",
    "        cursor.execute(query)\n",
    "        toc = time.time()\n",
    "        return toc - tic"
   ]
  },
  {
   "cell_type": "markdown",
   "metadata": {},
   "source": [
    "## Consultas"
   ]
  },
  {
   "cell_type": "markdown",
   "metadata": {},
   "source": [
    "### Quantidade de Registros"
   ]
  },
  {
   "cell_type": "code",
   "execution_count": 3,
   "metadata": {},
   "outputs": [],
   "source": [
    "query = f\"SELECT COUNT(*) FROM '{DATABASE}'\""
   ]
  },
  {
   "cell_type": "code",
   "execution_count": 4,
   "metadata": {},
   "outputs": [
    {
     "name": "stdout",
     "output_type": "stream",
     "text": [
      "Number of rows: 4,283,329,488\n",
      "Time: 1.47s\n"
     ]
    }
   ],
   "source": [
    "tic = time.time()\n",
    "\n",
    "cursor.execute(query)\n",
    "n_rows = cursor.fetchone()\n",
    "\n",
    "toc = time.time()\n",
    "\n",
    "print(f\"Number of rows: {n_rows[0]:,}\")\n",
    "print(f\"Time: {toc - tic:.2f}s\")"
   ]
  },
  {
   "cell_type": "markdown",
   "metadata": {},
   "source": [
    "### Primeiros Registros"
   ]
  },
  {
   "cell_type": "code",
   "execution_count": 6,
   "metadata": {},
   "outputs": [
    {
     "name": "stdout",
     "output_type": "stream",
     "text": [
      "Time: 0.82s\n"
     ]
    },
    {
     "data": {
      "text/html": [
       "<div>\n",
       "<style scoped>\n",
       "    .dataframe tbody tr th:only-of-type {\n",
       "        vertical-align: middle;\n",
       "    }\n",
       "\n",
       "    .dataframe tbody tr th {\n",
       "        vertical-align: top;\n",
       "    }\n",
       "\n",
       "    .dataframe thead th {\n",
       "        text-align: right;\n",
       "    }\n",
       "</style>\n",
       "<table border=\"1\" class=\"dataframe\">\n",
       "  <thead>\n",
       "    <tr style=\"text-align: right;\">\n",
       "      <th></th>\n",
       "      <th>event_timestamp</th>\n",
       "      <th>event_type</th>\n",
       "      <th>some_id</th>\n",
       "      <th>event_system</th>\n",
       "      <th>event_description</th>\n",
       "      <th>event_id</th>\n",
       "      <th>filename</th>\n",
       "    </tr>\n",
       "  </thead>\n",
       "  <tbody>\n",
       "    <tr>\n",
       "      <th>0</th>\n",
       "      <td>2022-10-26 10:39:36</td>\n",
       "      <td>INFO</td>\n",
       "      <td>67305985</td>\n",
       "      <td>LOGD</td>\n",
       "      <td>Início das operações do logd</td>\n",
       "      <td>E2C58C3021D6DB87</td>\n",
       "      <td>/data/logs/2_AC/o00407-0100700090001_new.csv</td>\n",
       "    </tr>\n",
       "    <tr>\n",
       "      <th>1</th>\n",
       "      <td>2022-10-26 10:39:36</td>\n",
       "      <td>INFO</td>\n",
       "      <td>67305985</td>\n",
       "      <td>LOGD</td>\n",
       "      <td>Urna ligada em 26/10/2022 às 10:38:20</td>\n",
       "      <td>DFBD462E26E8F1EA</td>\n",
       "      <td>/data/logs/2_AC/o00407-0100700090001_new.csv</td>\n",
       "    </tr>\n",
       "    <tr>\n",
       "      <th>2</th>\n",
       "      <td>2022-10-26 10:39:36</td>\n",
       "      <td>INFO</td>\n",
       "      <td>67305985</td>\n",
       "      <td>SCUE</td>\n",
       "      <td>Iniciando aplicação - Oficial - 1º turno</td>\n",
       "      <td>B8E2CBFADB3EF46B</td>\n",
       "      <td>/data/logs/2_AC/o00407-0100700090001_new.csv</td>\n",
       "    </tr>\n",
       "    <tr>\n",
       "      <th>3</th>\n",
       "      <td>2022-10-26 10:39:36</td>\n",
       "      <td>INFO</td>\n",
       "      <td>67305985</td>\n",
       "      <td>SCUE</td>\n",
       "      <td>Versão da aplicação: 8.26.0.0 - Onça-pintada</td>\n",
       "      <td>AC76A5B17419CB2E</td>\n",
       "      <td>/data/logs/2_AC/o00407-0100700090001_new.csv</td>\n",
       "    </tr>\n",
       "    <tr>\n",
       "      <th>4</th>\n",
       "      <td>2022-10-26 10:39:38</td>\n",
       "      <td>INFO</td>\n",
       "      <td>67305985</td>\n",
       "      <td>SCUE</td>\n",
       "      <td>Urna operando com rede elétrica</td>\n",
       "      <td>ED0703CBF6110D2C</td>\n",
       "      <td>/data/logs/2_AC/o00407-0100700090001_new.csv</td>\n",
       "    </tr>\n",
       "  </tbody>\n",
       "</table>\n",
       "</div>"
      ],
      "text/plain": [
       "      event_timestamp event_type   some_id event_system  \\\n",
       "0 2022-10-26 10:39:36       INFO  67305985         LOGD   \n",
       "1 2022-10-26 10:39:36       INFO  67305985         LOGD   \n",
       "2 2022-10-26 10:39:36       INFO  67305985         SCUE   \n",
       "3 2022-10-26 10:39:36       INFO  67305985         SCUE   \n",
       "4 2022-10-26 10:39:38       INFO  67305985         SCUE   \n",
       "\n",
       "                              event_description          event_id  \\\n",
       "0                  Início das operações do logd  E2C58C3021D6DB87   \n",
       "1         Urna ligada em 26/10/2022 às 10:38:20  DFBD462E26E8F1EA   \n",
       "2      Iniciando aplicação - Oficial - 1º turno  B8E2CBFADB3EF46B   \n",
       "3  Versão da aplicação: 8.26.0.0 - Onça-pintada  AC76A5B17419CB2E   \n",
       "4               Urna operando com rede elétrica  ED0703CBF6110D2C   \n",
       "\n",
       "                                       filename  \n",
       "0  /data/logs/2_AC/o00407-0100700090001_new.csv  \n",
       "1  /data/logs/2_AC/o00407-0100700090001_new.csv  \n",
       "2  /data/logs/2_AC/o00407-0100700090001_new.csv  \n",
       "3  /data/logs/2_AC/o00407-0100700090001_new.csv  \n",
       "4  /data/logs/2_AC/o00407-0100700090001_new.csv  "
      ]
     },
     "execution_count": 6,
     "metadata": {},
     "output_type": "execute_result"
    }
   ],
   "source": [
    "query = f\"\"\"\n",
    "    SELECT \n",
    "        *\n",
    "    FROM '{DATABASE}' LIMIT 5\n",
    "\"\"\"\n",
    "\n",
    "tic = time.time()\n",
    "cursor.execute(query)\n",
    "df_result = cursor.df()\n",
    "toc = time.time()\n",
    "\n",
    "print(f\"Time: {toc - tic:.2f}s\")\n",
    "df_result"
   ]
  },
  {
   "cell_type": "markdown",
   "metadata": {},
   "source": [
    "### Primeiros registros + filtro RN"
   ]
  },
  {
   "cell_type": "code",
   "execution_count": 7,
   "metadata": {},
   "outputs": [
    {
     "name": "stdout",
     "output_type": "stream",
     "text": [
      "Time: 69.65s\n"
     ]
    }
   ],
   "source": [
    "query = f\"\"\"\n",
    "    SELECT \n",
    "        *\n",
    "    FROM '{DATABASE}'\n",
    "    WHERE filename ILIKE '%RN%'\n",
    "    LIMIT 500\n",
    "\"\"\"\n",
    "\n",
    "tic = time.time()\n",
    "cursor.execute(query)\n",
    "df_result = cursor.df()\n",
    "toc = time.time()\n",
    "\n",
    "print(f\"Time: {toc - tic:.2f}s\")"
   ]
  },
  {
   "cell_type": "code",
   "execution_count": 11,
   "metadata": {},
   "outputs": [
    {
     "name": "stdout",
     "output_type": "stream",
     "text": [
      "Time: 91.12s\n"
     ]
    }
   ],
   "source": [
    "query = f\"\"\"\n",
    "    SELECT \n",
    "        *\n",
    "    FROM '{DATABASE}'\n",
    "    WHERE filename ILIKE '%SP%'\n",
    "    LIMIT 500\n",
    "\"\"\"\n",
    "\n",
    "tic = time.time()\n",
    "cursor.execute(query)\n",
    "df_result = cursor.df()\n",
    "toc = time.time()\n",
    "\n",
    "print(f\"Time: {toc - tic:.2f}s\")"
   ]
  },
  {
   "cell_type": "markdown",
   "metadata": {},
   "source": [
    "### Distinct"
   ]
  },
  {
   "cell_type": "markdown",
   "metadata": {},
   "source": [
    "event_type"
   ]
  },
  {
   "cell_type": "code",
   "execution_count": 12,
   "metadata": {},
   "outputs": [
    {
     "name": "stdout",
     "output_type": "stream",
     "text": [
      "Time: 5.69s\n"
     ]
    }
   ],
   "source": [
    "query = f\"\"\"\n",
    "    SELECT DISTINCT\n",
    "        event_type\n",
    "    FROM '{DATABASE}'\n",
    "\"\"\"\n",
    "\n",
    "tic = time.time()\n",
    "cursor.execute(query)\n",
    "df_result = cursor.df()\n",
    "toc = time.time()\n",
    "\n",
    "print(f\"Time: {toc - tic:.2f}s\")"
   ]
  },
  {
   "cell_type": "markdown",
   "metadata": {},
   "source": [
    "event_description"
   ]
  },
  {
   "cell_type": "code",
   "execution_count": 14,
   "metadata": {},
   "outputs": [
    {
     "name": "stdout",
     "output_type": "stream",
     "text": [
      "Time: 29.33s\n"
     ]
    }
   ],
   "source": [
    "query = f\"\"\"\n",
    "    SELECT DISTINCT\n",
    "        event_description\n",
    "    FROM '{DATABASE}'\n",
    "\"\"\"\n",
    "\n",
    "tic = time.time()\n",
    "cursor.execute(query)\n",
    "df_result = cursor.df()\n",
    "toc = time.time()\n",
    "\n",
    "print(f\"Time: {toc - tic:.2f}s\")"
   ]
  },
  {
   "cell_type": "markdown",
   "metadata": {},
   "source": [
    "### Group By"
   ]
  },
  {
   "cell_type": "code",
   "execution_count": 3,
   "metadata": {},
   "outputs": [
    {
     "data": {
      "application/vnd.jupyter.widget-view+json": {
       "model_id": "2941ff10abd0446cb443aafd4e0fc77c",
       "version_major": 2,
       "version_minor": 0
      },
      "text/plain": [
       "FloatProgress(value=0.0, layout=Layout(width='auto'), style=ProgressStyle(bar_color='black'))"
      ]
     },
     "metadata": {},
     "output_type": "display_data"
    },
    {
     "name": "stdout",
     "output_type": "stream",
     "text": [
      "Time: 6.77s\n"
     ]
    }
   ],
   "source": [
    "query = f\"\"\"\n",
    "    SELECT \n",
    "        event_system,\n",
    "        COUNT(*) AS qtd_linhas\n",
    "    FROM '{DATABASE}'\n",
    "    GROUP BY event_system\n",
    "\"\"\"\n",
    "\n",
    "tic = time.time()\n",
    "cursor.execute(query) \n",
    "df_result = cursor.df()\n",
    "toc = time.time()\n",
    "\n",
    "print(f\"Time: {toc - tic:.2f}s\")"
   ]
  },
  {
   "cell_type": "code",
   "execution_count": 4,
   "metadata": {},
   "outputs": [
    {
     "data": {
      "text/html": [
       "<div>\n",
       "<style scoped>\n",
       "    .dataframe tbody tr th:only-of-type {\n",
       "        vertical-align: middle;\n",
       "    }\n",
       "\n",
       "    .dataframe tbody tr th {\n",
       "        vertical-align: top;\n",
       "    }\n",
       "\n",
       "    .dataframe thead th {\n",
       "        text-align: right;\n",
       "    }\n",
       "</style>\n",
       "<table border=\"1\" class=\"dataframe\">\n",
       "  <thead>\n",
       "    <tr style=\"text-align: right;\">\n",
       "      <th></th>\n",
       "      <th>event_system</th>\n",
       "      <th>qtd_linhas</th>\n",
       "    </tr>\n",
       "  </thead>\n",
       "  <tbody>\n",
       "    <tr>\n",
       "      <th>0</th>\n",
       "      <td>INITJE</td>\n",
       "      <td>3044304</td>\n",
       "    </tr>\n",
       "    <tr>\n",
       "      <th>1</th>\n",
       "      <td>VERIFICADOR</td>\n",
       "      <td>37931</td>\n",
       "    </tr>\n",
       "    <tr>\n",
       "      <th>2</th>\n",
       "      <td>STE</td>\n",
       "      <td>394</td>\n",
       "    </tr>\n",
       "    <tr>\n",
       "      <th>3</th>\n",
       "      <td>LOGD</td>\n",
       "      <td>17978454</td>\n",
       "    </tr>\n",
       "    <tr>\n",
       "      <th>4</th>\n",
       "      <td>ADH</td>\n",
       "      <td>5188</td>\n",
       "    </tr>\n",
       "    <tr>\n",
       "      <th>5</th>\n",
       "      <td>SA</td>\n",
       "      <td>784</td>\n",
       "    </tr>\n",
       "    <tr>\n",
       "      <th>6</th>\n",
       "      <td>SCUE</td>\n",
       "      <td>39756883</td>\n",
       "    </tr>\n",
       "    <tr>\n",
       "      <th>7</th>\n",
       "      <td>VPP</td>\n",
       "      <td>223388</td>\n",
       "    </tr>\n",
       "    <tr>\n",
       "      <th>8</th>\n",
       "      <td>VO\u0014A</td>\n",
       "      <td>1</td>\n",
       "    </tr>\n",
       "    <tr>\n",
       "      <th>9</th>\n",
       "      <td>VOTA</td>\n",
       "      <td>3879701660</td>\n",
       "    </tr>\n",
       "    <tr>\n",
       "      <th>10</th>\n",
       "      <td>RED</td>\n",
       "      <td>76691</td>\n",
       "    </tr>\n",
       "    <tr>\n",
       "      <th>11</th>\n",
       "      <td>GAP</td>\n",
       "      <td>262715525</td>\n",
       "    </tr>\n",
       "    <tr>\n",
       "      <th>12</th>\n",
       "      <td>ATUE</td>\n",
       "      <td>79788285</td>\n",
       "    </tr>\n",
       "  </tbody>\n",
       "</table>\n",
       "</div>"
      ],
      "text/plain": [
       "   event_system  qtd_linhas\n",
       "0        INITJE     3044304\n",
       "1   VERIFICADOR       37931\n",
       "2           STE         394\n",
       "3          LOGD    17978454\n",
       "4           ADH        5188\n",
       "5            SA         784\n",
       "6          SCUE    39756883\n",
       "7           VPP      223388\n",
       "8          VO\u0014A           1\n",
       "9          VOTA  3879701660\n",
       "10          RED       76691\n",
       "11          GAP   262715525\n",
       "12         ATUE    79788285"
      ]
     },
     "execution_count": 4,
     "metadata": {},
     "output_type": "execute_result"
    }
   ],
   "source": [
    "df_result"
   ]
  },
  {
   "cell_type": "markdown",
   "metadata": {},
   "source": [
    "### Group By + Filtro"
   ]
  },
  {
   "cell_type": "code",
   "execution_count": 9,
   "metadata": {},
   "outputs": [
    {
     "data": {
      "application/vnd.jupyter.widget-view+json": {
       "model_id": "fde6505a3b484b28880584a0d5f7bb84",
       "version_major": 2,
       "version_minor": 0
      },
      "text/plain": [
       "FloatProgress(value=0.0, layout=Layout(width='auto'), style=ProgressStyle(bar_color='black'))"
      ]
     },
     "metadata": {},
     "output_type": "display_data"
    },
    {
     "name": "stdout",
     "output_type": "stream",
     "text": [
      "Time: 7.98s\n"
     ]
    }
   ],
   "source": [
    "query = f\"\"\"\n",
    "    SELECT \n",
    "        event_type,\n",
    "        COUNT(*) AS qtd_linhas\n",
    "    FROM '{DATABASE}'\n",
    "    WHERE event_system='VOTA' OR event_system='RED'\n",
    "    GROUP BY event_type\n",
    "\"\"\"\n",
    "\n",
    "tic = time.time()\n",
    "cursor.execute(query) \n",
    "df_result = cursor.df()\n",
    "toc = time.time()\n",
    "\n",
    "print(f\"Time: {toc - tic:.2f}s\")"
   ]
  },
  {
   "cell_type": "code",
   "execution_count": 10,
   "metadata": {},
   "outputs": [
    {
     "data": {
      "text/html": [
       "<div>\n",
       "<style scoped>\n",
       "    .dataframe tbody tr th:only-of-type {\n",
       "        vertical-align: middle;\n",
       "    }\n",
       "\n",
       "    .dataframe tbody tr th {\n",
       "        vertical-align: top;\n",
       "    }\n",
       "\n",
       "    .dataframe thead th {\n",
       "        text-align: right;\n",
       "    }\n",
       "</style>\n",
       "<table border=\"1\" class=\"dataframe\">\n",
       "  <thead>\n",
       "    <tr style=\"text-align: right;\">\n",
       "      <th></th>\n",
       "      <th>event_type</th>\n",
       "      <th>qtd_linhas</th>\n",
       "    </tr>\n",
       "  </thead>\n",
       "  <tbody>\n",
       "    <tr>\n",
       "      <th>0</th>\n",
       "      <td>ALERTA</td>\n",
       "      <td>50460553</td>\n",
       "    </tr>\n",
       "    <tr>\n",
       "      <th>1</th>\n",
       "      <td>ERRO</td>\n",
       "      <td>1024682</td>\n",
       "    </tr>\n",
       "    <tr>\n",
       "      <th>2</th>\n",
       "      <td>INFO</td>\n",
       "      <td>3828293116</td>\n",
       "    </tr>\n",
       "  </tbody>\n",
       "</table>\n",
       "</div>"
      ],
      "text/plain": [
       "  event_type  qtd_linhas\n",
       "0     ALERTA    50460553\n",
       "1       ERRO     1024682\n",
       "2       INFO  3828293116"
      ]
     },
     "execution_count": 10,
     "metadata": {},
     "output_type": "execute_result"
    }
   ],
   "source": [
    "df_result"
   ]
  },
  {
   "cell_type": "markdown",
   "metadata": {},
   "source": [
    "### Verificar se event_id é unico"
   ]
  },
  {
   "cell_type": "markdown",
   "metadata": {},
   "source": [
    "[WIP] Descrição básica da razão de cada consulta, qual sua função e como ela é utilizada no dia a dia"
   ]
  },
  {
   "cell_type": "markdown",
   "metadata": {},
   "source": [
    "1 - Usando GroupBy"
   ]
  },
  {
   "cell_type": "code",
   "execution_count": 4,
   "metadata": {},
   "outputs": [
    {
     "data": {
      "application/vnd.jupyter.widget-view+json": {
       "model_id": "db88550cf5cf4fc7a508e50d1839f168",
       "version_major": 2,
       "version_minor": 0
      },
      "text/plain": [
       "FloatProgress(value=0.0, layout=Layout(width='auto'), style=ProgressStyle(bar_color='black'))"
      ]
     },
     "metadata": {},
     "output_type": "display_data"
    },
    {
     "ename": "",
     "evalue": "",
     "output_type": "error",
     "traceback": [
      "\u001b[1;31mThe Kernel crashed while executing code in the current cell or a previous cell. \n",
      "\u001b[1;31mPlease review the code in the cell(s) to identify a possible cause of the failure. \n",
      "\u001b[1;31mClick <a href='https://aka.ms/vscodeJupyterKernelCrash'>here</a> for more info. \n",
      "\u001b[1;31mView Jupyter <a href='command:jupyter.viewOutput'>log</a> for further details."
     ]
    }
   ],
   "source": [
    "query = f\"\"\"\n",
    "    SELECT\n",
    "        COUNT(*) \n",
    "    FROM (\n",
    "        SELECT \n",
    "            event_id,\n",
    "            COUNT(*)\n",
    "        FROM '{DATABASE}'\n",
    "        GROUP BY event_id\n",
    "        HAVING COUNT(*) > 1\n",
    "    )\n",
    "\"\"\"\n",
    "\n",
    "tic = time.time()\n",
    "cursor.execute(query) \n",
    "df_result = cursor.df()\n",
    "toc = time.time()\n",
    "\n",
    "print(f\"Time: {toc - tic:.2f}s\")"
   ]
  },
  {
   "cell_type": "markdown",
   "metadata": {},
   "source": [
    "2 - Usando Windows Function"
   ]
  },
  {
   "cell_type": "code",
   "execution_count": 3,
   "metadata": {},
   "outputs": [
    {
     "data": {
      "application/vnd.jupyter.widget-view+json": {
       "model_id": "f529e0b4f1e149e6bdab3ade2e1d665f",
       "version_major": 2,
       "version_minor": 0
      },
      "text/plain": [
       "FloatProgress(value=0.0, layout=Layout(width='auto'), style=ProgressStyle(bar_color='black'))"
      ]
     },
     "metadata": {},
     "output_type": "display_data"
    }
   ],
   "source": [
    "query = f\"\"\"\n",
    "    SELECT\n",
    "        event_id, qtd_linhas\n",
    "    FROM (\n",
    "        SELECT \n",
    "            event_id,\n",
    "            COUNT(*) OVER( PARTITION BY event_id ) AS qtd_linhas\n",
    "        FROM '{DATABASE}'\n",
    "    ) _\n",
    "    WHERE qtd_linhas > 1\n",
    "    LIMIT 1\n",
    "\"\"\"\n",
    "\n",
    "tic = time.time()\n",
    "cursor.execute(query) \n",
    "df_result = cursor.df()\n",
    "toc = time.time()\n",
    "\n",
    "print(f\"Time: {toc - tic:.2f}s\")"
   ]
  },
  {
   "cell_type": "markdown",
   "metadata": {},
   "source": [
    "3 - Usando Count Distinct"
   ]
  },
  {
   "cell_type": "code",
   "execution_count": 5,
   "metadata": {},
   "outputs": [
    {
     "data": {
      "application/vnd.jupyter.widget-view+json": {
       "model_id": "71e66f8947c24b12b66fb5b11196bf63",
       "version_major": 2,
       "version_minor": 0
      },
      "text/plain": [
       "FloatProgress(value=0.0, layout=Layout(width='auto'), style=ProgressStyle(bar_color='black'))"
      ]
     },
     "metadata": {},
     "output_type": "display_data"
    }
   ],
   "source": [
    "query = f\"\"\"\n",
    "    SELECT COUNT(*)\n",
    "    FROM (\n",
    "        SELECT DISTINCT event_id \n",
    "        FROM '{DATABASE}'\n",
    "    ) _\n",
    "\"\"\"\n",
    "\n",
    "tic = time.time()\n",
    "cursor.execute(query) \n",
    "df_result = cursor.df()\n",
    "toc = time.time()\n",
    "\n",
    "print(f\"Time: {toc - tic:.2f}s\")"
   ]
  },
  {
   "cell_type": "markdown",
   "metadata": {},
   "source": [
    "4 - Usando Distinct + write to disk"
   ]
  },
  {
   "cell_type": "code",
   "execution_count": 4,
   "metadata": {},
   "outputs": [
    {
     "data": {
      "application/vnd.jupyter.widget-view+json": {
       "model_id": "f70e43b1e2f24f38adebfcd80815d560",
       "version_major": 2,
       "version_minor": 0
      },
      "text/plain": [
       "FloatProgress(value=0.0, layout=Layout(width='auto'), style=ProgressStyle(bar_color='black'))"
      ]
     },
     "metadata": {},
     "output_type": "display_data"
    },
    {
     "ename": "",
     "evalue": "",
     "output_type": "error",
     "traceback": [
      "\u001b[1;31mThe Kernel crashed while executing code in the current cell or a previous cell. \n",
      "\u001b[1;31mPlease review the code in the cell(s) to identify a possible cause of the failure. \n",
      "\u001b[1;31mClick <a href='https://aka.ms/vscodeJupyterKernelCrash'>here</a> for more info. \n",
      "\u001b[1;31mView Jupyter <a href='command:jupyter.viewOutput'>log</a> for further details."
     ]
    }
   ],
   "source": [
    "query = f\"\"\"\n",
    "    COPY (\n",
    "        SELECT DISTINCT event_id \n",
    "        FROM '{DATABASE}'\n",
    "    ) TO 'event_id.parquet' \n",
    "    (FORMAT 'parquet')\n",
    "\"\"\"\n",
    "\n",
    "tic = time.time()\n",
    "cursor.execute(query) \n",
    "df_result = cursor.df()\n",
    "toc = time.time()\n",
    "\n",
    "print(f\"Time: {toc - tic:.2f}s\")"
   ]
  },
  {
   "cell_type": "markdown",
   "metadata": {},
   "source": [
    "### Distinct mensagens"
   ]
  },
  {
   "cell_type": "markdown",
   "metadata": {},
   "source": [
    "Primeira aproximação"
   ]
  },
  {
   "cell_type": "code",
   "execution_count": 15,
   "metadata": {},
   "outputs": [
    {
     "data": {
      "application/vnd.jupyter.widget-view+json": {
       "model_id": "f37594cbd3e24d858c8a99e7f2841d9e",
       "version_major": 2,
       "version_minor": 0
      },
      "text/plain": [
       "FloatProgress(value=0.0, layout=Layout(width='auto'), style=ProgressStyle(bar_color='black'))"
      ]
     },
     "metadata": {},
     "output_type": "display_data"
    },
    {
     "name": "stdout",
     "output_type": "stream",
     "text": [
      "Time: 159.81s\n"
     ]
    },
    {
     "data": {
      "text/plain": [
       "159.71511435508728"
      ]
     },
     "execution_count": 15,
     "metadata": {},
     "output_type": "execute_result"
    }
   ],
   "source": [
    "query = f\"\"\"\n",
    "    SELECT DISTINCT\n",
    "        regexp_replace(event_description, '[0-9]', 'X', 'g') AS event_description\n",
    "    FROM '{DATABASE}'\n",
    "\"\"\"\n",
    "\n",
    "duration, df_result = execute_query_and_calculate_time(cursor, query, return_df=True)\n",
    "print(f\"Time: {toc - tic:.2f}s\")\n",
    "df_result"
   ]
  },
  {
   "cell_type": "code",
   "execution_count": 22,
   "metadata": {},
   "outputs": [
    {
     "data": {
      "application/vnd.jupyter.widget-view+json": {
       "model_id": "34112b0f74864cbf812b851009072faf",
       "version_major": 2,
       "version_minor": 0
      },
      "text/plain": [
       "FloatProgress(value=0.0, layout=Layout(width='auto'), style=ProgressStyle(bar_color='black'))"
      ]
     },
     "metadata": {},
     "output_type": "display_data"
    }
   ],
   "source": [
    "# Identificador da mídia de carga\n",
    "# Serial da MI copiada da MV da urna original\n",
    "# Serial de votação da MV\n",
    "# Verificação de assinatura de dado por etapa\n",
    "\n",
    "query = f\"\"\"\n",
    "    SELECT DISTINCT\n",
    "        CASE\n",
    "            WHEN event_description ILIKE 'Identificador da mídia de carga%' \n",
    "            THEN 'Identificador da mídia de carga'\n",
    "\n",
    "            WHEN event_description ILIKE 'Serial da MI copiada da MV da urna original%' \n",
    "            THEN 'Serial da MI copiada da MV da urna original'\n",
    "\n",
    "            WHEN event_description ILIKE 'Serial de votação da MV%' \n",
    "            THEN 'Serial de votação da MV'\n",
    "\n",
    "            WHEN event_description ILIKE 'Verificação de assinatura de dado por etapa%' \n",
    "            THEN 'Verificação de assinatura de dado por etapa'\n",
    "\n",
    "            WHEN event_description ILIKE 'Número de série da MR%'\n",
    "            THEN 'Número de série da MR'\n",
    "            \n",
    "            ELSE regexp_replace(event_description, '[0-9]', 'X', 'g') \n",
    "        END AS event_description\n",
    "    FROM '{DATABASE}'\n",
    "\"\"\"\n",
    "\n",
    "df_result, duration = execute_query_and_calculate_time(cursor, query, return_df=True)"
   ]
  },
  {
   "cell_type": "code",
   "execution_count": 23,
   "metadata": {},
   "outputs": [
    {
     "name": "stdout",
     "output_type": "stream",
     "text": [
      "Time: 478.24s\n",
      "Number of rows: 1,391\n"
     ]
    }
   ],
   "source": [
    "print(f\"Time: {duration:.2f}s\")\n",
    "print(f\"Number of rows: {df_result.shape[0]:,}\")\n",
    "df_result.to_csv('event_description.csv', index=False)"
   ]
  },
  {
   "cell_type": "code",
   "execution_count": null,
   "metadata": {},
   "outputs": [],
   "source": []
  }
 ],
 "metadata": {
  "kernelspec": {
   "display_name": "Python 3 (ipykernel)",
   "language": "python",
   "name": "python3"
  },
  "language_info": {
   "codemirror_mode": {
    "name": "ipython",
    "version": 3
   },
   "file_extension": ".py",
   "mimetype": "text/x-python",
   "name": "python",
   "nbconvert_exporter": "python",
   "pygments_lexer": "ipython3",
   "version": "3.11.5"
  }
 },
 "nbformat": 4,
 "nbformat_minor": 2
}
