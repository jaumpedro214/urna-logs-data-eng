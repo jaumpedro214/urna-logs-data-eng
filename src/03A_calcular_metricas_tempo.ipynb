{
 "cells": [
  {
   "cell_type": "markdown",
   "metadata": {},
   "source": [
    "## Calcular Métricas - Tempo de Votação, Biometria, etc."
   ]
  },
  {
   "cell_type": "markdown",
   "metadata": {},
   "source": [
    "---"
   ]
  },
  {
   "cell_type": "markdown",
   "metadata": {},
   "source": [
    "## Importing libraries"
   ]
  },
  {
   "cell_type": "code",
   "execution_count": 1,
   "metadata": {},
   "outputs": [],
   "source": [
    "import duckdb\n",
    "import pandas as pd\n",
    "import time"
   ]
  },
  {
   "cell_type": "markdown",
   "metadata": {},
   "source": [
    "## Importing Data"
   ]
  },
  {
   "cell_type": "code",
   "execution_count": 2,
   "metadata": {},
   "outputs": [],
   "source": [
    "cursor = duckdb.connect()"
   ]
  },
  {
   "cell_type": "code",
   "execution_count": 3,
   "metadata": {},
   "outputs": [],
   "source": [
    "TABLE = \"read_parquet('VOTES.parquet/*/*/*/*.parquet', hive_partitioning=True)\"\n",
    "ZONE_GROUPS = [ (x, x+20) for x in range(0, 800, 20) ]"
   ]
  },
  {
   "cell_type": "code",
   "execution_count": 4,
   "metadata": {},
   "outputs": [],
   "source": [
    "source = F\"\"\"\n",
    "(\n",
    "    SELECT \n",
    "        *,\n",
    "        CASE event_date\n",
    "            WHEN '2022-10-02' THEN 1\n",
    "            WHEN '2022-10-03' THEN 1\n",
    "            WHEN '2022-10-30' THEN 2\n",
    "            WHEN '2022-10-31' THEN 2\n",
    "            ELSE NULL\n",
    "        END::INT AS turno,\n",
    "        COALESCE(\n",
    "            timestamp_biometria_1,\n",
    "            timestamp_biometria_2,\n",
    "            timestamp_biometria_3,\n",
    "            timestamp_biometria_4,\n",
    "            timestamp_biometria_manual\n",
    "        ) AS timestamp_biometria_final\n",
    "    FROM \n",
    "        {TABLE}\n",
    "    --WHERE uf = '<uf>'\n",
    "    --AND event_date = '<event_date>'\n",
    "    --AND zone_code::INT BETWEEN <zone_id_min> AND <zone_id_max>\n",
    ") _\n",
    "\"\"\""
   ]
  },
  {
   "cell_type": "markdown",
   "metadata": {},
   "source": [
    "## Preparinga Data"
   ]
  },
  {
   "cell_type": "markdown",
   "metadata": {},
   "source": [
    "Méticas no Cubo OLAP - Turno, UF, Zona, Seção.\n",
    "\n",
    "- Número de Votos\n",
    "- Número de Seções Eleitorais\n",
    "- Média, Soma, q50%, q90% do Tempo total de Voto, Tempo de Biometria, Tempo Total\n",
    "\n",
    "- Quantidade de Votos efetuados em até 30s, 1min, 1min30s, 2min, 2min30s, 3min+\n",
    "- Taxa de Sucesso da Biometria em 1 tentativa, 2 tentativas, 3 tentativas, 4 tentativas, Falha\n",
    "- Quantidade de Teclas Pressionadas\n",
    "- Quantidade de Cargos Distintos Votados"
   ]
  },
  {
   "cell_type": "markdown",
   "metadata": {},
   "source": [
    "**Definição das métricas de tempo**"
   ]
  },
  {
   "cell_type": "code",
   "execution_count": 5,
   "metadata": {},
   "outputs": [],
   "source": [
    "tempo_voto_total = \"EXTRACT(EPOCH FROM (timestamp_voto_computado  - timestamp_titulo_digitado))\"\n",
    "tempo_voto       = \"EXTRACT(EPOCH FROM (timestamp_voto_computado  - timestamp_habilitacao_eleitor))\"\n",
    "tempo_biometria  = \"EXTRACT(EPOCH FROM (timestamp_biometria_final - timestamp_titulo_digitado))\"\n",
    "\n",
    "intervalos_tempo_segundos_votos = [0, 30, 60, 90, 120, 150, 180, 210, 300, 9999]\n",
    "contagem_de_votos_em_intervalos_de_tempo = \", \".join([\n",
    "    F\"\"\"\n",
    "    SUM( \n",
    "        CASE WHEN \n",
    "        {tempo_voto} >= {intervalos_tempo_segundos_votos[i]} \n",
    "        AND {tempo_voto} < {intervalos_tempo_segundos_votos[i+1]}\n",
    "        THEN 1 ELSE 0 END \n",
    "    ) AS votos_{intervalos_tempo_segundos_votos[i]}_{intervalos_tempo_segundos_votos[i+1]}_segundos\n",
    "    \"\"\"\n",
    "    for i in range(0, len(intervalos_tempo_segundos_votos)-1)\n",
    "])"
   ]
  },
  {
   "cell_type": "markdown",
   "metadata": {},
   "source": [
    "**Contagem de cargos distintos votados e número total de teclas pressionadas**"
   ]
  },
  {
   "cell_type": "markdown",
   "metadata": {},
   "source": [
    "Aproximação a partir do número de digitos de cada cargo + 1 (CONFIRMA)"
   ]
  },
  {
   "cell_type": "code",
   "execution_count": 6,
   "metadata": {},
   "outputs": [],
   "source": [
    "COLUNAS_VOTOS_CARGOS_NR_TECLAS = [\n",
    "    # 2 digitos\n",
    "    ('timestamp_voto_prefeito', 2), \n",
    "    ('timestamp_voto_presidente', 2),\n",
    "    ('timestamp_voto_governador', 2),\n",
    "    \n",
    "    # 3 digitos\n",
    "    ('timestamp_voto_senador', 3),\n",
    "\n",
    "    # 4 digitos\n",
    "    ('timestamp_voto_deputado_distrital', 4), \n",
    "    ('timestamp_voto_deputado_federal', 4),\n",
    "\n",
    "    # 5 digitos\n",
    "    ('timestamp_voto_deputado_estadual', 5),\n",
    "]\n",
    "\n",
    "nr_total_cargos_votados = \" + \".join([\n",
    "    F\"({coluna} IS NOT NULL)::INT\"\n",
    "    for coluna, _ in COLUNAS_VOTOS_CARGOS_NR_TECLAS\n",
    "])\n",
    "\n",
    "nr_total_teclas_digitadas = \" + \".join([\n",
    "    F\"({coluna} IS NOT NULL)::INT*({teclas}+1)\"\n",
    "    for coluna, teclas in COLUNAS_VOTOS_CARGOS_NR_TECLAS\n",
    "])"
   ]
  },
  {
   "cell_type": "code",
   "execution_count": 7,
   "metadata": {},
   "outputs": [],
   "source": [
    "fix_null_values = lambda column: F\"COALESCE({column}::VARCHAR(10), 'ALL')\""
   ]
  },
  {
   "cell_type": "code",
   "execution_count": 8,
   "metadata": {},
   "outputs": [],
   "source": [
    "query_metrics = F\"\"\"\n",
    "    SELECT\n",
    "        {fix_null_values('turno') } AS turno,\n",
    "        {fix_null_values('uf') } AS uf,\n",
    "        {fix_null_values('zone_code') } AS zone_code,\n",
    "        {fix_null_values('section_code') } AS section_code,\n",
    "\n",
    "        COUNT(*) AS total_votos,\n",
    "        COUNT( DISTINCT section_code ) AS total_secoes,\n",
    "\n",
    "        SUM( {tempo_voto} ) AS tempo_voto_soma,\n",
    "        AVG( {tempo_voto} ) AS tempo_voto_medio,\n",
    "        --PERCENTILE_CONT(0.5) WITHIN GROUP(ORDER BY {tempo_voto}) AS tempo_voto_mediana,\n",
    "        --PERCENTILE_CONT(0.9) WITHIN GROUP(ORDER BY {tempo_voto}) AS tempo_voto_90percentil,\n",
    "\n",
    "        SUM( {tempo_biometria} ) AS tempo_biometria_soma,\n",
    "        AVG( {tempo_biometria} ) AS tempo_biometria_medio,\n",
    "        --PERCENTILE_CONT(0.5) WITHIN GROUP(ORDER BY {tempo_biometria}) AS tempo_biometria_mediana,\n",
    "        --PERCENTILE_CONT(0.9) WITHIN GROUP(ORDER BY {tempo_biometria}) AS tempo_biometria_90percentil,\n",
    "\n",
    "        SUM( {tempo_voto_total} ) AS tempo_voto_total_soma,\n",
    "        AVG( {tempo_voto_total} ) AS tempo_voto_total_medio,\n",
    "        --PERCENTILE_CONT(0.5) WITHIN GROUP(ORDER BY {tempo_voto_total}) AS tempo_voto_total_mediana,\n",
    "        --PERCENTILE_CONT(0.9) WITHIN GROUP(ORDER BY {tempo_voto_total}) AS tempo_voto_total_90percentil,\n",
    "        \n",
    "        {contagem_de_votos_em_intervalos_de_tempo},\n",
    "        1-AVG(biometria_nao_funcionou::INT) AS tx_sucesso_biometria,\n",
    "\n",
    "        MAX({nr_total_cargos_votados})   AS nr_total_cargos_votados,\n",
    "        SUM({nr_total_teclas_digitadas}) AS nr_total_teclas_digitadas\n",
    "\n",
    "    FROM\n",
    "        {source}\n",
    "    WHERE quantidade_votos_computados = 1\n",
    "    GROUP BY ROLLUP(turno, uf, zone_code, section_code)\n",
    "\"\"\""
   ]
  },
  {
   "cell_type": "markdown",
   "metadata": {},
   "source": [
    "Add zone group to the data  "
   ]
  },
  {
   "cell_type": "code",
   "execution_count": 9,
   "metadata": {},
   "outputs": [],
   "source": [
    "query_metrics_with_zone_group = F\"\"\"\n",
    "    SELECT\n",
    "    *,\n",
    "    CASE\n",
    "        {\n",
    "            \"\".join(\n",
    "                [\n",
    "                    f\"WHEN zone_code!='ALL' AND zone_code::INT BETWEEN {min_zone} AND {max_zone} THEN '{min_zone}-{max_zone}' \" \n",
    "                    for min_zone, max_zone in ZONE_GROUPS\n",
    "                ]\n",
    "            )\n",
    "        }\n",
    "        ELSE zone_code\n",
    "    END AS zone_group\n",
    "    FROM (\n",
    "        {query_metrics}\n",
    "    ) _\n",
    "\"\"\""
   ]
  },
  {
   "cell_type": "code",
   "execution_count": 10,
   "metadata": {},
   "outputs": [],
   "source": [
    "query = F\"\"\"\n",
    "    COPY (\n",
    "    {\n",
    "        query_metrics_with_zone_group\n",
    "    } )\n",
    "    TO 'VOTES_TIME_METRICS.parquet' \n",
    "    (FORMAT 'parquet', PARTITION_BY (turno, uf, zone_group), OVERWRITE_OR_IGNORE 1);\n",
    "\"\"\""
   ]
  },
  {
   "cell_type": "code",
   "execution_count": 11,
   "metadata": {},
   "outputs": [
    {
     "data": {
      "application/vnd.jupyter.widget-view+json": {
       "model_id": "d71b2b98a9bc4de599320953d64bff42",
       "version_major": 2,
       "version_minor": 0
      },
      "text/plain": [
       "FloatProgress(value=0.0, layout=Layout(width='auto'), style=ProgressStyle(bar_color='black'))"
      ]
     },
     "metadata": {},
     "output_type": "display_data"
    },
    {
     "data": {
      "text/plain": [
       "<duckdb.duckdb.DuckDBPyConnection at 0x7fc450093d30>"
      ]
     },
     "execution_count": 11,
     "metadata": {},
     "output_type": "execute_result"
    }
   ],
   "source": [
    "cursor.execute(query)"
   ]
  }
 ],
 "metadata": {
  "kernelspec": {
   "display_name": "base",
   "language": "python",
   "name": "python3"
  },
  "language_info": {
   "codemirror_mode": {
    "name": "ipython",
    "version": 3
   },
   "file_extension": ".py",
   "mimetype": "text/x-python",
   "name": "python",
   "nbconvert_exporter": "python",
   "pygments_lexer": "ipython3",
   "version": "3.11.5"
  }
 },
 "nbformat": 4,
 "nbformat_minor": 2
}
