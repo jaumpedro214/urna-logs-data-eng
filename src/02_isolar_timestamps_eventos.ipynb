{
 "cells": [
  {
   "cell_type": "markdown",
   "metadata": {},
   "source": [
    "## Calcular o Tempo de Voto"
   ]
  },
  {
   "cell_type": "markdown",
   "metadata": {},
   "source": [
    "Este notebook tem como objetivo calcular o tempo de voto de um eleitor. \n",
    "O primeiro passo é definir exatamente o que é um voto, dado que o log das urnas contém apenas uma sequência de eventos.\n",
    "\n",
    "Na sequência, os votos são individualizados (um por linha) e o tempo de cada evento relevante é calculado."
   ]
  },
  {
   "cell_type": "markdown",
   "metadata": {},
   "source": [
    "## Importing libraries"
   ]
  },
  {
   "cell_type": "code",
   "execution_count": 28,
   "metadata": {},
   "outputs": [],
   "source": [
    "import duckdb\n",
    "import pandas as pd\n",
    "import time"
   ]
  },
  {
   "cell_type": "markdown",
   "metadata": {},
   "source": [
    "## Importing Data"
   ]
  },
  {
   "cell_type": "code",
   "execution_count": 29,
   "metadata": {},
   "outputs": [],
   "source": [
    "cursor = duckdb.connect()"
   ]
  },
  {
   "cell_type": "code",
   "execution_count": 31,
   "metadata": {},
   "outputs": [],
   "source": [
    "TABLE = \"read_parquet('UFS_VOTE_EVENTS.parquet/*/*/*.parquet', hive_partitioning=True)\""
   ]
  },
  {
   "cell_type": "code",
   "execution_count": 32,
   "metadata": {},
   "outputs": [],
   "source": [
    "source_data = f\"\"\"\n",
    "    (\n",
    "        SELECT\n",
    "        *\n",
    "        FROM {TABLE}\n",
    "    ) AS source\n",
    "\"\"\""
   ]
  },
  {
   "cell_type": "markdown",
   "metadata": {},
   "source": [
    "## Preparinga Data"
   ]
  },
  {
   "cell_type": "markdown",
   "metadata": {},
   "source": [
    "### Criando um ID único para cada voto"
   ]
  },
  {
   "cell_type": "markdown",
   "metadata": {},
   "source": [
    "Como heurística, vamos criar um id único para cada voto, que será determinado a partir de uma operação 'âncora'.\n",
    "\n",
    "A operação servirá como marcação de que um voto foi iniciado e, todas as linhas entre uma operação âncora e a próxima, serão consideradas como um único voto."
   ]
  },
  {
   "cell_type": "code",
   "execution_count": 33,
   "metadata": {},
   "outputs": [],
   "source": [
    "ANCHOR_OPERATION = 'Aguardando digitação do título'\n",
    "ZONE_GROUPS = [ (0, 100), (101, 200), (201, 300), (301, 400), (401, 500) ]"
   ]
  },
  {
   "cell_type": "markdown",
   "metadata": {},
   "source": [
    "Após uma exploração dos LOGS, a operação escolhida foi 'AGUARDANDO DIGITAÇÃO DO TÍTULO', exatamente por ser o PRIMEIRO e OBRIAGTÓRIO passo para que um voto seja autorizado."
   ]
  },
  {
   "cell_type": "code",
   "execution_count": 34,
   "metadata": {},
   "outputs": [],
   "source": [
    "query_create_id = f\"\"\"\n",
    "    (\n",
    "        SELECT\n",
    "            *,\n",
    "            SUM(CASE WHEN event_description = '{ANCHOR_OPERATION}' THEN 1 ELSE 0 END) \n",
    "            OVER (PARTITION BY event_date, uf, filename ORDER BY event_timestamp) AS vote_id,\n",
    "            \n",
    "            CASE\n",
    "                {\n",
    "                    \"\".join(\n",
    "                        [\n",
    "                            f\"WHEN zone_code::INT BETWEEN {min_zone} AND {max_zone} THEN '{min_zone}-{max_zone}' \" \n",
    "                            for min_zone, max_zone in ZONE_GROUPS\n",
    "                        ]\n",
    "                    )\n",
    "                }\n",
    "            END AS zone_group\n",
    "\n",
    "        FROM {source_data}\n",
    "        WHERE \n",
    "        uf = '<uf>' \n",
    "        AND event_date = '<event_date>'\n",
    "        AND zone_code::INT BETWEEN <zone_id_min> AND <zone_id_max>\n",
    "    ) AS query_vote_id\n",
    "\"\"\""
   ]
  },
  {
   "cell_type": "markdown",
   "metadata": {},
   "source": [
    "### Pivotando Timestamp dos eventos por id"
   ]
  },
  {
   "cell_type": "markdown",
   "metadata": {},
   "source": [
    "Para calcular o tempo dos votos e dos eventos individuais que o compõem (biometria, voto) é necessário extrair o timestamp de cada evento."
   ]
  },
  {
   "cell_type": "code",
   "execution_count": 35,
   "metadata": {},
   "outputs": [],
   "source": [
    "timestamp_inicio_fim_voto = [\n",
    "    f'''\n",
    "        MAX(\n",
    "            CASE WHEN event_description = 'Título digitado pelo mesário' THEN event_timestamp ELSE NULL END \n",
    "        ) AS timestamp_titulo_digitado\n",
    "    ''',\n",
    "    f'''\n",
    "        MAX(\n",
    "            CASE WHEN event_description = 'O voto do eleitor foi computado' THEN event_timestamp ELSE NULL END \n",
    "        ) AS timestamp_voto_computado\n",
    "    '''\n",
    "]"
   ]
  },
  {
   "cell_type": "code",
   "execution_count": 36,
   "metadata": {},
   "outputs": [],
   "source": [
    "VOTE_EVENTS = [\n",
    "    'Voto confirmado para [Conselheiro Distrital]',\n",
    "    'Voto confirmado para [Deputado Distrital]',\n",
    "    'Voto confirmado para [Deputado Estadual]',\n",
    "    'Voto confirmado para [Deputado Federal]',\n",
    "    'Voto confirmado para [Governador]',\n",
    "    'Voto confirmado para [Prefeito]',\n",
    "    'Voto confirmado para [Presidente]',\n",
    "    'Voto confirmado para [Senador]',\n",
    "]\n",
    "\n",
    "timestamp_vote_events = [\n",
    "    f'''\n",
    "        MAX(\n",
    "            CASE WHEN event_description = \\'{event}\\' THEN event_timestamp ELSE NULL END \n",
    "        ) AS timestamp_voto_{event.replace(\"Voto confirmado para [\", \"\").replace(\"]\", \"\").lower().replace(' ', '_')}\n",
    "    '''\n",
    "    for event in VOTE_EVENTS\n",
    "]"
   ]
  },
  {
   "cell_type": "code",
   "execution_count": 37,
   "metadata": {},
   "outputs": [],
   "source": [
    "BIOMETRIA_TENTATIVAS = [\n",
    "    'Solicita digital. Tentativa [1] de [4]',\n",
    "    'Solicita digital. Tentativa [2] de [4]',\n",
    "    'Solicita digital. Tentativa [3] de [4]',\n",
    "    'Solicita digital. Tentativa [4] de [4]',\n",
    "    'Solicitação de dado pessoal do eleitor para habilitação manual',\n",
    "    'Eleitor foi habilitado'\n",
    "]\n",
    "\n",
    "timestamp_biometria_tentativas = [\n",
    "    f'''\n",
    "        MAX(\n",
    "            CASE WHEN event_description = \\'{event}\\' THEN event_timestamp ELSE NULL END \n",
    "        ) AS timestamp_biometria_{event.replace(\"Solicita digital. Tentativa [\", \"\").replace(\"] de [4]\", \"\").lower()}\n",
    "    '''\n",
    "    for event in BIOMETRIA_TENTATIVAS\n",
    "    if event.startswith('Solicita digital')\n",
    "] + [\n",
    "    f'''\n",
    "        MAX(\n",
    "            CASE WHEN event_description = \\'{BIOMETRIA_TENTATIVAS[-2]}\\' THEN event_timestamp ELSE NULL END \n",
    "        ) AS timestamp_biometria_manual\n",
    "    '''\n",
    "] + [\n",
    "    f'''\n",
    "        MAX(\n",
    "            CASE WHEN event_description = \\'{BIOMETRIA_TENTATIVAS[-1]}\\' THEN event_timestamp ELSE NULL END \n",
    "        ) AS timestamp_habilitacao_eleitor\n",
    "    '''\n",
    "]\n",
    "    "
   ]
  },
  {
   "cell_type": "code",
   "execution_count": 38,
   "metadata": {},
   "outputs": [],
   "source": [
    "query_pivot_timestamps = f\"\"\"(\n",
    "    SELECT\n",
    "        event_date, uf, filename, vote_id,\n",
    "        \n",
    "        MAX(city_code) AS city_code,\n",
    "        MAX(zone_code) AS zone_code,\n",
    "        MAX(zone_group) AS zone_group,\n",
    "        MAX(section_code) AS section_code,\n",
    "\n",
    "        SUM( (event_description='O voto do eleitor foi computado')::INT ) AS quantidade_votos_computados,\n",
    "        SUM( (event_description ILIKE 'Solicita digital%')::INT ) AS quantidade_solicitacoes_biometria,\n",
    "        SUM( (event_description ILIKE 'Voto confirmado para%')::INT ) AS quantidade_cargos_votados,\n",
    "        MAX( (event_description='Solicitação de dado pessoal do eleitor para habilitação manual')::INT ) AS biometria_nao_funcionou,\n",
    "\n",
    "        MIN( event_timestamp ) AS timestamp_primeiro_evento,\n",
    "\n",
    "        {', '.join(timestamp_vote_events+timestamp_biometria_tentativas+timestamp_inicio_fim_voto)}\n",
    "        \n",
    "    FROM {query_create_id}\n",
    "    GROUP BY event_date, uf, filename, vote_id\n",
    ")\n",
    "\"\"\""
   ]
  },
  {
   "cell_type": "markdown",
   "metadata": {},
   "source": [
    "### Construindo e Executando a query"
   ]
  },
  {
   "cell_type": "markdown",
   "metadata": {},
   "source": [
    "Os arquivos parquet são particionados por DATA DO EVENTO, UF e GRUPO DE ZONA ELEITORAL por duas razões:\n",
    "\n",
    "    - Facilitar a leitura dos dados posteriormente\n",
    "    - Permitir a execução da query em partes, evitando a sobrecarga de memória ao processar todos os dados de uma vez\n",
    "\n",
    "As ZONAS foram agrupadas em grupos de 100, esse número é empírico, pensado para abarcar a grande maioria das UFs em um único grupo, já que a grande maioria dos estados não pssui mais de 100 zonas eleitorais, e dividir as UFs mais populosas em grupos menores."
   ]
  },
  {
   "cell_type": "code",
   "execution_count": null,
   "metadata": {},
   "outputs": [],
   "source": [
    "ACCEPTED_DATES = [\n",
    "    '2022-10-02', '2022-10-30', \n",
    "    '2022-10-03', '2022-10-31',\n",
    "]\n",
    "UFS = [\n",
    "    'AC', 'AL', 'AM', 'AP', \n",
    "    'BA', \n",
    "    'CE', 'DF', 'ES', 'GO', \n",
    "    'MT', 'PA', 'PB', 'PE', \n",
    "    'MA',\n",
    "    \n",
    "    'MG', 'MS', \n",
    "    'PI', 'PR', 'RJ', 'RN', \n",
    "    'RO', 'RR', 'RS', 'SC', \n",
    "    'SE', 'SP', 'TO', 'ZZ'\n",
    "]\n",
    "\n",
    "PROCESSING_TIMES = []\n",
    "\n",
    "for uf in UFS:\n",
    "    for date in ACCEPTED_DATES:\n",
    "        for zone_group in ZONE_GROUPS:\n",
    "\n",
    "            \n",
    "            query = F\"\"\"\n",
    "                COPY \n",
    "                {\n",
    "                    query_pivot_timestamps\n",
    "                    .replace('<uf>', uf)\n",
    "                    .replace('<event_date>', date)\n",
    "                    .replace('<zone_id_min>', str(zone_group[0]))\n",
    "                    .replace('<zone_id_max>', str(zone_group[1]))\n",
    "                } \n",
    "                TO 'VOTES.parquet' \n",
    "                (FORMAT 'parquet', PARTITION_BY (event_date, uf, zone_group), OVERWRITE_OR_IGNORE 1);\n",
    "            \"\"\"\n",
    "            \n",
    "            print(\"Processing \", uf, date)\n",
    "            tic = time.time()\n",
    "            cursor.execute(query)\n",
    "            toc = time.time()\n",
    "            print(F\"Time for {uf} {date} {zone_group}: {toc-tic}\")\n",
    "\n",
    "            PROCESSING_TIMES.append({\n",
    "                'uf': uf,\n",
    "                'date': date,\n",
    "                'zone_group': zone_group,\n",
    "                'time': toc-tic\n",
    "            })"
   ]
  },
  {
   "cell_type": "markdown",
   "metadata": {},
   "source": [
    "Salvando o resultado dos tempos de processamento."
   ]
  },
  {
   "cell_type": "code",
   "execution_count": 42,
   "metadata": {},
   "outputs": [],
   "source": [
    "PROCESSING_TIMES\n",
    "\n",
    "# convert to pandas and save as csv\n",
    "df_processing_times = pd.DataFrame(PROCESSING_TIMES)\n",
    "df_processing_times.to_csv('processing_times.csv', index=False)"
   ]
  }
 ],
 "metadata": {
  "kernelspec": {
   "display_name": "base",
   "language": "python",
   "name": "python3"
  },
  "language_info": {
   "codemirror_mode": {
    "name": "ipython",
    "version": 3
   },
   "file_extension": ".py",
   "mimetype": "text/x-python",
   "name": "python",
   "nbconvert_exporter": "python",
   "pygments_lexer": "ipython3",
   "version": "3.11.5"
  }
 },
 "nbformat": 4,
 "nbformat_minor": 2
}
