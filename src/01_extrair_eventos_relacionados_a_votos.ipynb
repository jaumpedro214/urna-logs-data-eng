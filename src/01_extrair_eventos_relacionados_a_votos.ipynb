{
 "cells": [
  {
   "cell_type": "markdown",
   "metadata": {},
   "source": [
    "# Extrair apenas eventos relacionados a votos e metadados"
   ]
  },
  {
   "cell_type": "markdown",
   "metadata": {},
   "source": [
    "Como o Log das urnas compila todo o histórico de eventos que ocorreu em uma unna, incluindo testes, carga, preparação, etc, para garantir uma consulta mais eficiente, são extraídos apenas os eventos relacionados aos votos em si.\n",
    "\n"
   ]
  },
  {
   "cell_type": "markdown",
   "metadata": {},
   "source": [
    "## Importing libraries"
   ]
  },
  {
   "cell_type": "code",
   "execution_count": 6,
   "metadata": {},
   "outputs": [],
   "source": [
    "import duckdb\n",
    "import pandas as pd\n",
    "import time"
   ]
  },
  {
   "cell_type": "markdown",
   "metadata": {},
   "source": [
    "## Importing Data"
   ]
  },
  {
   "cell_type": "code",
   "execution_count": 7,
   "metadata": {},
   "outputs": [],
   "source": [
    "DATASET = 'ALL_UFS.parquet'\n",
    "COLUMN_EVENT_DESCRIPTION = 'event_description'"
   ]
  },
  {
   "cell_type": "code",
   "execution_count": 18,
   "metadata": {},
   "outputs": [],
   "source": [
    "cursor = duckdb.connect()"
   ]
  },
  {
   "cell_type": "markdown",
   "metadata": {},
   "source": [
    "## Preaparing Data"
   ]
  },
  {
   "cell_type": "markdown",
   "metadata": {},
   "source": [
    "### Definindo os filtros"
   ]
  },
  {
   "cell_type": "code",
   "execution_count": 44,
   "metadata": {},
   "outputs": [],
   "source": [
    "METADATA = [\n",
    "    F\"{COLUMN_EVENT_DESCRIPTION} ILIKE 'Zona Eleitoral%'\",\n",
    "    F\"{COLUMN_EVENT_DESCRIPTION} ILIKE 'Turno da UE%'\",\n",
    "    F\"{COLUMN_EVENT_DESCRIPTION} ILIKE 'Município%'\",\n",
    "    F\"{COLUMN_EVENT_DESCRIPTION} ILIKE 'Identificação do Modelo de Urna%'\"\n",
    "]\n",
    "\n",
    "EVENTS_DESCRIPTIONS = [\n",
    "    F\"{COLUMN_EVENT_DESCRIPTION} ILIKE 'Urna pronta para receber voto%'\",\n",
    "    F\"{COLUMN_EVENT_DESCRIPTION} ILIKE 'Voto confirmado para%'\"\n",
    "]\n",
    "\n",
    "VOTES_DESCRIPTIONS = [\n",
    "    F\"{COLUMN_EVENT_DESCRIPTION} ILIKE 'Eleitor foi habilitado%'\",\n",
    "    F\"{COLUMN_EVENT_DESCRIPTION} ILIKE 'Eleitor foi suspenso e não confirmou nenhum voto%'\",\n",
    "    F\"{COLUMN_EVENT_DESCRIPTION} ILIKE 'Eleitor foi suspenso pelo mesário%'\",\n",
    "    F\"{COLUMN_EVENT_DESCRIPTION} ILIKE 'Eleitor impedido%'\",\n",
    "    F\"{COLUMN_EVENT_DESCRIPTION} ILIKE 'Eleitor já justificou%'\",\n",
    "    F\"{COLUMN_EVENT_DESCRIPTION} ILIKE 'Eleitor não está votando%'\",\n",
    "    F\"{COLUMN_EVENT_DESCRIPTION} ILIKE 'Eleitor não tem idade mínima%'\",\n",
    "    F\"{COLUMN_EVENT_DESCRIPTION} ILIKE 'Eleitor sem atividade por%'\",\n",
    "    F\"{COLUMN_EVENT_DESCRIPTION} ILIKE 'Eleitor voltou a digitar enquanto estava sendo suspenso%'\",\n",
    "    F\"{COLUMN_EVENT_DESCRIPTION} ILIKE 'Eleitor votou parcialmente e em seguida foi suspenso%'\",\n",
    "    F\"{COLUMN_EVENT_DESCRIPTION} ILIKE 'O voto do eleitor foi computado%'\"\n",
    "]\n",
    "\n",
    "ACCEPTED_DATES = [\n",
    "    '2022-10-03', '2022-10-30', # Constitutional Election Dates\n",
    "    '2022-10-04', '2022-10-31', # In case a section lasts until the next day\n",
    "]\n",
    "\n",
    "ALL_FILTERS = METADATA + EVENTS_DESCRIPTIONS + VOTES_DESCRIPTIONS"
   ]
  },
  {
   "cell_type": "markdown",
   "metadata": {},
   "source": [
    "### Construindo e executando a query"
   ]
  },
  {
   "cell_type": "code",
   "execution_count": 45,
   "metadata": {},
   "outputs": [],
   "source": [
    "query = F\"\"\"\n",
    "    SELECT\n",
    "        event_timestamp,\n",
    "        event_timestamp::date AS event_date,\n",
    "        event_type,\n",
    "        some_id,\n",
    "        event_system,\n",
    "        event_description,\n",
    "        event_id,\n",
    "        -- filename,\n",
    "\n",
    "        REPLACE(SPLIT_PART(filename, '/', 4), '2_', '') AS uf,\n",
    "        REPLACE(SPLIT_PART(filename, '/', 5), '_new.csv', '') AS filename\n",
    "    FROM\n",
    "        {DATASET}\n",
    "    WHERE 1=1 AND\n",
    "        ( {' OR '.join(ALL_FILTERS)} )\n",
    "        AND event_timestamp::date IN ({', '.join([F\"'{date}'\" for date in ACCEPTED_DATES])})\n",
    "\"\"\""
   ]
  },
  {
   "cell_type": "code",
   "execution_count": null,
   "metadata": {},
   "outputs": [],
   "source": [
    "query = F\"\"\"\n",
    "    COPY ({query}) TO 'UFS_VOTES.parquet' (FORMAT 'parquet', PARTITION_BY (event_date, uf))\n",
    "\"\"\""
   ]
  },
  {
   "cell_type": "code",
   "execution_count": null,
   "metadata": {},
   "outputs": [],
   "source": [
    "tic = time.time()\n",
    "cursor.execute(query)\n",
    "toc = time.time()\n",
    "\n",
    "print(F\"Query executed in {toc - tic:.2f} seconds\")\n"
   ]
  }
 ],
 "metadata": {
  "kernelspec": {
   "display_name": "base",
   "language": "python",
   "name": "python3"
  },
  "language_info": {
   "codemirror_mode": {
    "name": "ipython",
    "version": 3
   },
   "file_extension": ".py",
   "mimetype": "text/x-python",
   "name": "python",
   "nbconvert_exporter": "python",
   "pygments_lexer": "ipython3",
   "version": "3.11.5"
  }
 },
 "nbformat": 4,
 "nbformat_minor": 2
}
