{
 "cells": [
  {
   "cell_type": "markdown",
   "metadata": {},
   "source": [
    "# Extrair apenas eventos relacionados a votos e metadados"
   ]
  },
  {
   "cell_type": "markdown",
   "metadata": {},
   "source": [
    "Como o Log das urnas compila todo o histórico de eventos que ocorreu em uma unna, incluindo testes, carga, preparação, etc, para garantir uma consulta mais eficiente, são extraídos apenas os eventos relacionados aos votos em si.\n",
    "\n"
   ]
  },
  {
   "cell_type": "markdown",
   "metadata": {},
   "source": [
    "## Importing libraries"
   ]
  },
  {
   "cell_type": "code",
   "execution_count": 16,
   "metadata": {},
   "outputs": [],
   "source": [
    "import duckdb\n",
    "import pandas as pd\n",
    "import time"
   ]
  },
  {
   "cell_type": "markdown",
   "metadata": {},
   "source": [
    "## Importing Data"
   ]
  },
  {
   "cell_type": "code",
   "execution_count": 17,
   "metadata": {},
   "outputs": [],
   "source": [
    "DATASET = 'ALL_UFS.parquet'"
   ]
  },
  {
   "cell_type": "code",
   "execution_count": 18,
   "metadata": {},
   "outputs": [],
   "source": [
    "cursor = duckdb.connect()"
   ]
  },
  {
   "cell_type": "markdown",
   "metadata": {},
   "source": [
    "## Preparing Data"
   ]
  },
  {
   "cell_type": "markdown",
   "metadata": {},
   "source": [
    "### Definindo os filtros"
   ]
  },
  {
   "cell_type": "code",
   "execution_count": 19,
   "metadata": {},
   "outputs": [],
   "source": [
    "COLUMN_EVENT_DESCRIPTION = 'event_description'\n",
    "\n",
    "METADATA = [\n",
    "    F\"{COLUMN_EVENT_DESCRIPTION} ILIKE 'Zona Eleitoral%'\",\n",
    "    F\"{COLUMN_EVENT_DESCRIPTION} ILIKE 'Seção Eleitoral%'\",\n",
    "    F\"{COLUMN_EVENT_DESCRIPTION} ILIKE 'Município%'\",\n",
    "    F\"{COLUMN_EVENT_DESCRIPTION} ILIKE 'Local de Votação%'\",\n",
    "    F\"{COLUMN_EVENT_DESCRIPTION} ILIKE 'Turno da UE%'\",\n",
    "    F\"{COLUMN_EVENT_DESCRIPTION} ILIKE 'Identificação do Modelo de Urna%'\"\n",
    "]\n",
    "\n",
    "EVENTS_DESCRIPTIONS = [\n",
    "    F\"{COLUMN_EVENT_DESCRIPTION} ILIKE 'Urna pronta para receber vot%'\",\n",
    "]\n",
    "\n",
    "VOTES_DESCRIPTIONS = [\n",
    "    # VOTOS\n",
    "    F\"{COLUMN_EVENT_DESCRIPTION} = 'Aguardando digitação do título'\",\n",
    "    F\"{COLUMN_EVENT_DESCRIPTION} = 'Título digitado pelo mesário'\",\n",
    "    F\"{COLUMN_EVENT_DESCRIPTION} = 'Eleitor foi habilitado'\",\n",
    "    F\"{COLUMN_EVENT_DESCRIPTION} ILIKE 'Voto confirmado par%'\",\n",
    "    F\"{COLUMN_EVENT_DESCRIPTION} = 'O voto do eleitor foi computado'\",\n",
    "    \n",
    "    # BIOMETRIA\n",
    "    F\"{COLUMN_EVENT_DESCRIPTION} ILIKE '%Digital%' \",\n",
    "    F\"{COLUMN_EVENT_DESCRIPTION} ILIKE 'Dedo reconhecido%' \",\n",
    "    F\"{COLUMN_EVENT_DESCRIPTION} ILIKE 'Solicita digital%' \",\n",
    "    F\"{COLUMN_EVENT_DESCRIPTION} = 'Solicitação de dado pessoal do eleitor para habilitação manual' \",\n",
    "]\n",
    "\n",
    "ACCEPTED_DATES = [\n",
    "    '2022-10-02', '2022-10-30', # Constitutional Election Dates\n",
    "    '2022-10-03', '2022-10-31', # In case a section lasts until the next day\n",
    "]\n",
    "\n",
    "ALL_FILTERS = METADATA + EVENTS_DESCRIPTIONS + VOTES_DESCRIPTIONS"
   ]
  },
  {
   "cell_type": "markdown",
   "metadata": {},
   "source": [
    "### Construindo e executando a query"
   ]
  },
  {
   "cell_type": "markdown",
   "metadata": {},
   "source": [
    "Nome do arquivo o00407-6100003300017_new.csv\n",
    "\n",
    "SPLIT_PART(SPLIT_PART(filename, '/', 5), '-', 2)\n",
    "\n",
    "Query the 5 first digits are the CITY CODE\n",
    "\n",
    "Query the 4 digits after the 5 first digits are the ZONE CODE\n",
    "\n",
    "Query the 4 digits after the 9 first digits are the SECTION CODE"
   ]
  },
  {
   "cell_type": "code",
   "execution_count": 20,
   "metadata": {},
   "outputs": [],
   "source": [
    "query = F\"\"\"\n",
    "    SELECT \n",
    "        *\n",
    "    FROM (\n",
    "        SELECT\n",
    "            event_timestamp,\n",
    "            event_timestamp::date AS event_date,\n",
    "            event_type,\n",
    "            some_id,\n",
    "            event_system,\n",
    "            event_description,\n",
    "            event_id,\n",
    "                \n",
    "            REPLACE(SPLIT_PART(filename, '/', 5), '_new.csv', '') AS filename,\n",
    "            \n",
    "            -- Metadata from filename\n",
    "            SUBSTRING( SPLIT_PART(SPLIT_PART(filename, '/', 5), '-', 2),  1, 5 ) AS city_code,\n",
    "            SUBSTRING( SPLIT_PART(SPLIT_PART(filename, '/', 5), '-', 2),  6, 4 ) AS zone_code,\n",
    "            SUBSTRING( SPLIT_PART(SPLIT_PART(filename, '/', 5), '-', 2), 10, 4 ) AS section_code,\n",
    "            REPLACE(SPLIT_PART(filename, '/', 4), '2_', '') AS uf\n",
    "        FROM\n",
    "            {DATASET}\n",
    "        WHERE 1=1\n",
    "            AND ( {' OR '.join(ALL_FILTERS)} )\n",
    "    ) _\n",
    "    WHERE 1=1\n",
    "    AND event_date IN ({', '.join([F\"'{date}'\" for date in ACCEPTED_DATES])})\n",
    "\"\"\""
   ]
  },
  {
   "cell_type": "code",
   "execution_count": 21,
   "metadata": {},
   "outputs": [],
   "source": [
    "query = F\"\"\"\n",
    "    COPY ({query}) TO 'UFS_VOTE_EVENTS.parquet' (FORMAT 'parquet', PARTITION_BY (event_date, uf), OVERWRITE_OR_IGNORE 1);\n",
    "\"\"\""
   ]
  },
  {
   "cell_type": "code",
   "execution_count": 22,
   "metadata": {},
   "outputs": [
    {
     "data": {
      "application/vnd.jupyter.widget-view+json": {
       "model_id": "f4c7980b2c8849fca2d77a83ae9a19a0",
       "version_major": 2,
       "version_minor": 0
      },
      "text/plain": [
       "FloatProgress(value=0.0, layout=Layout(width='auto'), style=ProgressStyle(bar_color='black'))"
      ]
     },
     "metadata": {},
     "output_type": "display_data"
    }
   ],
   "source": [
    "tic = time.time()\n",
    "cursor.execute(query)\n",
    "toc = time.time()\n",
    "\n",
    "print(F\"Time {toc - tic}s\")"
   ]
  }
 ],
 "metadata": {
  "kernelspec": {
   "display_name": "base",
   "language": "python",
   "name": "python3"
  },
  "language_info": {
   "codemirror_mode": {
    "name": "ipython",
    "version": 3
   },
   "file_extension": ".py",
   "mimetype": "text/x-python",
   "name": "python",
   "nbconvert_exporter": "python",
   "pygments_lexer": "ipython3",
   "version": "3.11.5"
  }
 },
 "nbformat": 4,
 "nbformat_minor": 2
}
