{
 "cells": [
  {
   "cell_type": "markdown",
   "metadata": {},
   "source": [
    "# Extrair apenas eventos relacionados a votos e metadados"
   ]
  },
  {
   "cell_type": "markdown",
   "metadata": {},
   "source": [
    "Como o Log das urnas compila todo o histórico de eventos que ocorreu em uma unna, incluindo testes, carga, preparação, etc, para garantir uma consulta mais eficiente, são extraídos apenas os eventos relacionados aos votos em si.\n",
    "\n"
   ]
  },
  {
   "cell_type": "markdown",
   "metadata": {},
   "source": [
    "## Importing libraries"
   ]
  },
  {
   "cell_type": "code",
   "execution_count": 62,
   "metadata": {},
   "outputs": [],
   "source": [
    "import duckdb\n",
    "import pandas as pd\n",
    "import time"
   ]
  },
  {
   "cell_type": "markdown",
   "metadata": {},
   "source": [
    "## Importing Data"
   ]
  },
  {
   "cell_type": "code",
   "execution_count": 63,
   "metadata": {},
   "outputs": [],
   "source": [
    "DATASET = 'ALL_UFS.parquet'"
   ]
  },
  {
   "cell_type": "code",
   "execution_count": 64,
   "metadata": {},
   "outputs": [],
   "source": [
    "cursor = duckdb.connect()"
   ]
  },
  {
   "cell_type": "markdown",
   "metadata": {},
   "source": [
    "## Preaparing Data"
   ]
  },
  {
   "cell_type": "markdown",
   "metadata": {},
   "source": [
    "### Definindo os filtros"
   ]
  },
  {
   "cell_type": "code",
   "execution_count": 66,
   "metadata": {},
   "outputs": [],
   "source": [
    "COLUMN_EVENT_DESCRIPTION = 'event_description'\n",
    "\n",
    "METADATA = [\n",
    "    F\"{COLUMN_EVENT_DESCRIPTION} ILIKE 'Zona Eleitoral%'\",\n",
    "    F\"{COLUMN_EVENT_DESCRIPTION} ILIKE 'Seção Eleitoral%'\",\n",
    "    F\"{COLUMN_EVENT_DESCRIPTION} ILIKE 'Município%'\",\n",
    "    F\"{COLUMN_EVENT_DESCRIPTION} ILIKE 'Local de Votação%'\",\n",
    "    F\"{COLUMN_EVENT_DESCRIPTION} ILIKE 'Turno da UE%'\",\n",
    "    F\"{COLUMN_EVENT_DESCRIPTION} ILIKE 'Identificação do Modelo de Urna%'\"\n",
    "]\n",
    "\n",
    "EVENTS_DESCRIPTIONS = [\n",
    "    F\"{COLUMN_EVENT_DESCRIPTION} ILIKE 'Urna pronta para receber vot%'\",\n",
    "    F\"{COLUMN_EVENT_DESCRIPTION} ILIKE 'Voto confirmado par%'\"\n",
    "]\n",
    "\n",
    "VOTES_DESCRIPTIONS = [\n",
    "    F\"{COLUMN_EVENT_DESCRIPTION} ILIKE 'Aguardando digitação do títul%'\",\n",
    "\n",
    "    F\"{COLUMN_EVENT_DESCRIPTION} ILIKE 'Eleitor foi habilitad%'\",\n",
    "    F\"{COLUMN_EVENT_DESCRIPTION} ILIKE 'Eleitor foi suspenso e não confirmou nenhum vot%'\",\n",
    "    F\"{COLUMN_EVENT_DESCRIPTION} ILIKE 'Eleitor foi suspenso pelo mesári%'\",\n",
    "    F\"{COLUMN_EVENT_DESCRIPTION} ILIKE 'Eleitor impedid%'\",\n",
    "    F\"{COLUMN_EVENT_DESCRIPTION} ILIKE 'Eleitor já justifico%'\",\n",
    "    F\"{COLUMN_EVENT_DESCRIPTION} ILIKE 'Eleitor não está votand%'\",\n",
    "    F\"{COLUMN_EVENT_DESCRIPTION} ILIKE 'Eleitor não tem idade mínim%'\",\n",
    "    F\"{COLUMN_EVENT_DESCRIPTION} ILIKE 'Eleitor sem atividade por%'\",\n",
    "    F\"{COLUMN_EVENT_DESCRIPTION} ILIKE 'Eleitor voltou a digitar enquanto estava sendo suspens%'\",\n",
    "    F\"{COLUMN_EVENT_DESCRIPTION} ILIKE 'Eleitor votou parcialmente e em seguida foi suspens%'\",\n",
    "    F\"{COLUMN_EVENT_DESCRIPTION} = 'O voto do eleitor foi computado'\",\n",
    "    # 'Digital' aparece no texto\n",
    "    # Dedo reconhecido no começo\n",
    "    F\"{COLUMN_EVENT_DESCRIPTION} ILIKE '%Digital%'\",\n",
    "    F\"{COLUMN_EVENT_DESCRIPTION} ILIKE 'Dedo reconhecido%'\",\n",
    "    F\"{COLUMN_EVENT_DESCRIPTION} ILIKE 'Solicita digital%'\",\n",
    "    F\"{COLUMN_EVENT_DESCRIPTION} ILIKE 'Solicitação de dado pessoal do eleitor%'\",\n",
    "]\n",
    "\n",
    "ACCEPTED_DATES = [\n",
    "    '2022-10-03', '2022-10-30', # Constitutional Election Dates\n",
    "    '2022-10-04', '2022-10-31', # In case a section lasts until the next day\n",
    "]\n",
    "\n",
    "ALL_FILTERS = METADATA + EVENTS_DESCRIPTIONS + VOTES_DESCRIPTIONS"
   ]
  },
  {
   "cell_type": "markdown",
   "metadata": {},
   "source": [
    "### Construindo e executando a query"
   ]
  },
  {
   "cell_type": "markdown",
   "metadata": {},
   "source": [
    "Nome do arquivo o00407-6100003300017_new.csv\n",
    "\n",
    "SPLIT_PART(SPLIT_PART(filename, '/', 5), '-', 2)\n",
    "\n",
    "Query the 5 first digits are the CITY CODE\n",
    "\n",
    "Query the 4 digits after the 5 first digits are the ZONE CODE\n",
    "\n",
    "Query the 4 digits after the 9 first digits are the SECTION CODE"
   ]
  },
  {
   "cell_type": "code",
   "execution_count": 67,
   "metadata": {},
   "outputs": [],
   "source": [
    "query = F\"\"\"\n",
    "    SELECT \n",
    "        *\n",
    "    FROM (\n",
    "        SELECT\n",
    "            event_timestamp,\n",
    "            event_timestamp::date AS event_date,\n",
    "            event_type,\n",
    "            some_id,\n",
    "            event_system,\n",
    "            event_description,\n",
    "            event_id,\n",
    "                \n",
    "            REPLACE(SPLIT_PART(filename, '/', 5), '_new.csv', '') AS filename,\n",
    "            \n",
    "            -- Metadata from filename\n",
    "            SUBSTRING( SPLIT_PART(SPLIT_PART(filename, '/', 5), '-', 2),  1, 5 ) AS city_code,\n",
    "            SUBSTRING( SPLIT_PART(SPLIT_PART(filename, '/', 5), '-', 2),  6, 4 ) AS zone_code,\n",
    "            SUBSTRING( SPLIT_PART(SPLIT_PART(filename, '/', 5), '-', 2), 10, 4 ) AS section_code,\n",
    "            REPLACE(SPLIT_PART(filename, '/', 4), '2_', '') AS uf\n",
    "        FROM\n",
    "            {DATASET}\n",
    "        WHERE 1=1\n",
    "            AND ( {' OR '.join(ALL_FILTERS)} )\n",
    "    ) _\n",
    "    WHERE 1=1\n",
    "    AND event_date IN ({', '.join([F\"'{date}'\" for date in ACCEPTED_DATES])})\n",
    "\"\"\""
   ]
  },
  {
   "cell_type": "code",
   "execution_count": 68,
   "metadata": {},
   "outputs": [],
   "source": [
    "query = F\"\"\"\n",
    "    COPY ({query}) TO 'UFS_VOTE_EVENTS.parquet' (FORMAT 'parquet', PARTITION_BY (event_date, uf))\n",
    "\"\"\""
   ]
  },
  {
   "cell_type": "code",
   "execution_count": 69,
   "metadata": {},
   "outputs": [
    {
     "data": {
      "application/vnd.jupyter.widget-view+json": {
       "model_id": "554796bd4f5348d5a3b6285a04e4ddbb",
       "version_major": 2,
       "version_minor": 0
      },
      "text/plain": [
       "FloatProgress(value=0.0, layout=Layout(width='auto'), style=ProgressStyle(bar_color='black'))"
      ]
     },
     "metadata": {},
     "output_type": "display_data"
    },
    {
     "name": "stdout",
     "output_type": "stream",
     "text": [
      "Query executed in 781.79 seconds\n"
     ]
    }
   ],
   "source": [
    "tic = time.time()\n",
    "cursor.execute(query)\n",
    "toc = time.time()\n",
    "\n",
    "print(F\"Query executed in {toc - tic:.2f} seconds\")"
   ]
  }
 ],
 "metadata": {
  "kernelspec": {
   "display_name": "base",
   "language": "python",
   "name": "python3"
  },
  "language_info": {
   "codemirror_mode": {
    "name": "ipython",
    "version": 3
   },
   "file_extension": ".py",
   "mimetype": "text/x-python",
   "name": "python",
   "nbconvert_exporter": "python",
   "pygments_lexer": "ipython3",
   "version": "3.11.5"
  }
 },
 "nbformat": 4,
 "nbformat_minor": 2
}
