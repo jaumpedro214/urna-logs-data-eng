{
 "cells": [
  {
   "cell_type": "markdown",
   "metadata": {},
   "source": [
    "# Extrair apenas eventos relacionados a votos e metadados"
   ]
  },
  {
   "cell_type": "markdown",
   "metadata": {},
   "source": [
    "Como o Log das urnas compila todo o histórico de eventos que ocorreu em uma unna, incluindo testes, carga, preparação, etc, para garantir uma consulta mais eficiente, são extraídos apenas os eventos relacionados aos votos em si.\n",
    "\n"
   ]
  },
  {
   "cell_type": "markdown",
   "metadata": {},
   "source": [
    "## Importing libraries"
   ]
  },
  {
   "cell_type": "code",
   "execution_count": 1,
   "metadata": {},
   "outputs": [],
   "source": [
    "import duckdb\n",
    "import pandas as pd\n",
    "import time"
   ]
  },
  {
   "cell_type": "markdown",
   "metadata": {},
   "source": [
    "## Importing Data"
   ]
  },
  {
   "cell_type": "code",
   "execution_count": 2,
   "metadata": {},
   "outputs": [],
   "source": [
    "DATASET = 'ALL_UFS.parquet'"
   ]
  },
  {
   "cell_type": "code",
   "execution_count": 3,
   "metadata": {},
   "outputs": [],
   "source": [
    "cursor = duckdb.connect()"
   ]
  },
  {
   "cell_type": "markdown",
   "metadata": {},
   "source": [
    "## Preparing Data"
   ]
  },
  {
   "cell_type": "markdown",
   "metadata": {},
   "source": [
    "### Definindo os filtros"
   ]
  },
  {
   "cell_type": "markdown",
   "metadata": {},
   "source": [
    "Colunas relacionadas a metadados da Seção Eleitoral"
   ]
  },
  {
   "cell_type": "code",
   "execution_count": null,
   "metadata": {},
   "outputs": [],
   "source": [
    "METADATA = [\n",
    "    F\"{COLUMN_EVENT_DESCRIPTION} ILIKE 'Zona Eleitoral%'\",\n",
    "    F\"{COLUMN_EVENT_DESCRIPTION} ILIKE 'Seção Eleitoral%'\",\n",
    "    F\"{COLUMN_EVENT_DESCRIPTION} ILIKE 'Município%'\",\n",
    "    F\"{COLUMN_EVENT_DESCRIPTION} ILIKE 'Local de Votação%'\",\n",
    "    F\"{COLUMN_EVENT_DESCRIPTION} ILIKE 'Turno da UE%'\",\n",
    "    F\"{COLUMN_EVENT_DESCRIPTION} ILIKE 'Identificação do Modelo de Urna%'\"\n",
    "]"
   ]
  },
  {
   "cell_type": "code",
   "execution_count": 4,
   "metadata": {},
   "outputs": [],
   "source": [
    "COLUMN_EVENT_DESCRIPTION = 'event_description'\n",
    "\n",
    "EVENTS_DESCRIPTIONS = [\n",
    "    F\"{COLUMN_EVENT_DESCRIPTION} ILIKE 'Urna pronta para receber vot%'\",\n",
    "]\n",
    "\n",
    "VOTES_DESCRIPTIONS = [\n",
    "    # VOTOS\n",
    "    F\"{COLUMN_EVENT_DESCRIPTION} = 'Aguardando digitação do título'\",\n",
    "    F\"{COLUMN_EVENT_DESCRIPTION} = 'Título digitado pelo mesário'\",\n",
    "    F\"{COLUMN_EVENT_DESCRIPTION} = 'Eleitor foi habilitado'\",\n",
    "    F\"{COLUMN_EVENT_DESCRIPTION} ILIKE 'Voto confirmado par%'\",\n",
    "    F\"{COLUMN_EVENT_DESCRIPTION} = 'O voto do eleitor foi computado'\",\n",
    "    \n",
    "    # BIOMETRIA\n",
    "    F\"{COLUMN_EVENT_DESCRIPTION} ILIKE '%Digital%' \",\n",
    "    F\"{COLUMN_EVENT_DESCRIPTION} ILIKE 'Dedo reconhecido%' \",\n",
    "    F\"{COLUMN_EVENT_DESCRIPTION} ILIKE 'Solicita digital%' \",\n",
    "    F\"{COLUMN_EVENT_DESCRIPTION} = 'Solicitação de dado pessoal do eleitor para habilitação manual' \",\n",
    "]\n",
    "\n",
    "ACCEPTED_DATES = [\n",
    "    '2022-10-02', '2022-10-30', # Data constitucional da eleição\n",
    "    '2022-10-03', '2022-10-31', # No caso da seção 'virar a noite' e acabar depois da meia noite, imagino que sejam casos RARÍSSIMOS\n",
    "]\n",
    "\n",
    "ALL_FILTERS = METADATA + EVENTS_DESCRIPTIONS + VOTES_DESCRIPTIONS"
   ]
  },
  {
   "cell_type": "markdown",
   "metadata": {},
   "source": [
    "### Construindo e Executando a query"
   ]
  },
  {
   "cell_type": "markdown",
   "metadata": {},
   "source": [
    "**Notas:** \n",
    "\n",
    "**1. Extração de metadados a partir do nome dos arquivos.**\n",
    "    \n",
    "Cada arquivo TSV possui informações de uma Seção Eleitoral (que é a mesma coisa de uma Urna), e o nome do arquivo é a concatenação dos metadados da Seção Eleitoral:\n",
    "\n",
    "    - Os 5 Primeiros Dígitos são o código do Município\n",
    "    - Os 4 Dígitos seguintes são o código da Zona Eleitoral\n",
    "    - Os 4 Dígitos seguintes são o código da Seção Eleitoral\n",
    "\n",
    "**2. Data da Eleição**\n",
    "\n",
    "A Data em que os eventos aconteceram é uma ótima forma de aproximar ainda mais os eventos que têm haver com a votação, uma vez que a votação no Brasil acontece em um único dia - aprende aí EUA ;)"
   ]
  },
  {
   "cell_type": "code",
   "execution_count": 5,
   "metadata": {},
   "outputs": [],
   "source": [
    "query = F\"\"\"\n",
    "    SELECT \n",
    "        *\n",
    "    FROM (\n",
    "        SELECT\n",
    "            event_timestamp,\n",
    "            event_timestamp::date AS event_date,\n",
    "            event_type,\n",
    "            some_id,\n",
    "            event_system,\n",
    "            event_description,\n",
    "            event_id,\n",
    "                \n",
    "            REPLACE(SPLIT_PART(filename, '/', 5), '_new.csv', '') AS filename,\n",
    "            \n",
    "            -- Metadata from filename\n",
    "            SUBSTRING( SPLIT_PART(SPLIT_PART(filename, '/', 5), '-', 2),  1, 5 ) AS city_code,\n",
    "            SUBSTRING( SPLIT_PART(SPLIT_PART(filename, '/', 5), '-', 2),  6, 4 ) AS zone_code,\n",
    "            SUBSTRING( SPLIT_PART(SPLIT_PART(filename, '/', 5), '-', 2), 10, 4 ) AS section_code,\n",
    "            REPLACE(SPLIT_PART(filename, '/', 4), '2_', '') AS uf\n",
    "        FROM\n",
    "            {DATASET}\n",
    "        WHERE 1=1\n",
    "            AND ( {' OR '.join(ALL_FILTERS)} )\n",
    "    ) _\n",
    "    WHERE 1=1\n",
    "    AND event_date IN ({', '.join([F\"'{date}'\" for date in ACCEPTED_DATES])})\n",
    "\"\"\""
   ]
  },
  {
   "cell_type": "markdown",
   "metadata": {},
   "source": [
    "Para facilitar consultas, os arquivos parquet são particionados por DATA DO EVENTO e UF."
   ]
  },
  {
   "cell_type": "code",
   "execution_count": 6,
   "metadata": {},
   "outputs": [],
   "source": [
    "query = F\"\"\"\n",
    "    COPY ({query}) TO 'UFS_VOTE_EVENTS.parquet' (FORMAT 'parquet', PARTITION_BY (event_date, uf), OVERWRITE_OR_IGNORE 1);\n",
    "\"\"\""
   ]
  },
  {
   "cell_type": "code",
   "execution_count": 7,
   "metadata": {},
   "outputs": [
    {
     "data": {
      "application/vnd.jupyter.widget-view+json": {
       "model_id": "ca3b1617f6524b85b061c9579b6cc506",
       "version_major": 2,
       "version_minor": 0
      },
      "text/plain": [
       "FloatProgress(value=0.0, layout=Layout(width='auto'), style=ProgressStyle(bar_color='black'))"
      ]
     },
     "metadata": {},
     "output_type": "display_data"
    },
    {
     "name": "stdout",
     "output_type": "stream",
     "text": [
      "Time 1027.0729978084564s\n"
     ]
    }
   ],
   "source": [
    "tic = time.time()\n",
    "cursor.execute(query)\n",
    "toc = time.time()\n",
    "\n",
    "print(F\"Time {toc - tic}s\")"
   ]
  }
 ],
 "metadata": {
  "kernelspec": {
   "display_name": "base",
   "language": "python",
   "name": "python3"
  },
  "language_info": {
   "codemirror_mode": {
    "name": "ipython",
    "version": 3
   },
   "file_extension": ".py",
   "mimetype": "text/x-python",
   "name": "python",
   "nbconvert_exporter": "python",
   "pygments_lexer": "ipython3",
   "version": "3.11.5"
  }
 },
 "nbformat": 4,
 "nbformat_minor": 2
}
