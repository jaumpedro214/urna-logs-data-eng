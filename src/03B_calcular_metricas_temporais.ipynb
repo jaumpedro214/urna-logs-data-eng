{
 "cells": [
  {
   "cell_type": "markdown",
   "metadata": {},
   "source": [
    "## Calcular Métricas - Tempo de Votação, Biometria, etc."
   ]
  },
  {
   "cell_type": "markdown",
   "metadata": {},
   "source": [
    "---"
   ]
  },
  {
   "cell_type": "markdown",
   "metadata": {},
   "source": [
    "## Importing libraries"
   ]
  },
  {
   "cell_type": "code",
   "execution_count": 7,
   "metadata": {},
   "outputs": [],
   "source": [
    "import duckdb\n",
    "import pandas as pd\n",
    "import time"
   ]
  },
  {
   "cell_type": "markdown",
   "metadata": {},
   "source": [
    "## Importing Data"
   ]
  },
  {
   "cell_type": "code",
   "execution_count": 8,
   "metadata": {},
   "outputs": [],
   "source": [
    "cursor = duckdb.connect()"
   ]
  },
  {
   "cell_type": "markdown",
   "metadata": {},
   "source": [
    "Dados Brutos"
   ]
  },
  {
   "cell_type": "code",
   "execution_count": 9,
   "metadata": {},
   "outputs": [],
   "source": [
    "TABLE = \"read_parquet('VOTES.parquet/*/*/*/*.parquet', hive_partitioning=True)\"\n",
    "ZONE_GROUPS = [ (x, x+20) for x in range(0, 800, 20) ]"
   ]
  },
  {
   "cell_type": "markdown",
   "metadata": {},
   "source": [
    "Adicionar TURNO e Timestamp final de Biometria"
   ]
  },
  {
   "cell_type": "code",
   "execution_count": 4,
   "metadata": {},
   "outputs": [],
   "source": [
    "source = F\"\"\"\n",
    "(\n",
    "    SELECT \n",
    "        *,\n",
    "        \n",
    "        CASE event_date\n",
    "            WHEN '2022-10-02' THEN 1\n",
    "            WHEN '2022-10-03' THEN 1\n",
    "            WHEN '2022-10-30' THEN 2\n",
    "            WHEN '2022-10-31' THEN 2\n",
    "            ELSE NULL\n",
    "        END::INT AS turno,\n",
    "\n",
    "        COALESCE(\n",
    "            timestamp_biometria_1,\n",
    "            timestamp_biometria_2,\n",
    "            timestamp_biometria_3,\n",
    "            timestamp_biometria_4,\n",
    "            timestamp_biometria_manual\n",
    "        ) AS timestamp_biometria_final,\n",
    "\n",
    "        strftime( '%Y-%m-%d %H:', timestamp_voto_computado )\n",
    "        || (EXTRACT(MINUTE FROM timestamp_voto_computado)//5)*5 + 5\n",
    "        || ':00' AS timestamp_voto_computado_5min\n",
    "        \n",
    "    FROM \n",
    "        {TABLE}\n",
    "    -- WHERE uf='DF'\n",
    ") _\n",
    "\"\"\""
   ]
  },
  {
   "cell_type": "markdown",
   "metadata": {},
   "source": [
    "## Preparinga Data"
   ]
  },
  {
   "cell_type": "markdown",
   "metadata": {},
   "source": [
    "Méticas no Cubo OLAP - Turno, UF, Zona, Seção.\n",
    "\n",
    "- Número de Votos\n",
    "- Número de Seções Eleitorais\n",
    "- Média, Soma, q50%, q90% do Tempo total de Voto, Tempo de Biometria, Tempo Total\n",
    "\n",
    "- Quantidade de Votos efetuados em até 30s, 1min, 1min30s, 2min, 2min30s, 3min+\n",
    "- Taxa de Sucesso da Biometria em 1 tentativa, 2 tentativas, 3 tentativas, 4 tentativas, Falha\n",
    "- Quantidade de Teclas Pressionadas\n",
    "- Quantidade de Cargos Distintos Votados"
   ]
  },
  {
   "cell_type": "markdown",
   "metadata": {},
   "source": [
    "**Definição das métricas de tempo**"
   ]
  },
  {
   "cell_type": "code",
   "execution_count": 5,
   "metadata": {},
   "outputs": [],
   "source": [
    "tempo_voto_total = \"EXTRACT(EPOCH FROM (timestamp_voto_computado  - timestamp_titulo_digitado))\"\n",
    "tempo_voto       = \"EXTRACT(EPOCH FROM (timestamp_voto_computado  - timestamp_habilitacao_eleitor))\"\n",
    "tempo_biometria  = \"EXTRACT(EPOCH FROM (timestamp_biometria_final - timestamp_titulo_digitado))\"\n",
    "\n",
    "fix_null_values = lambda column: F\"COALESCE({column}::VARCHAR(20), 'ALL')\""
   ]
  },
  {
   "cell_type": "code",
   "execution_count": 6,
   "metadata": {},
   "outputs": [],
   "source": [
    "query_metrics = F\"\"\"\n",
    "    SELECT\n",
    "        {fix_null_values('turno') } AS turno,\n",
    "        {fix_null_values('timestamp_voto_computado_5min') } AS timestamp_voto_computado_5min,\n",
    "        {fix_null_values('uf') } AS uf,\n",
    "        zone_code,\n",
    "        {fix_null_values('section_code') } AS section_code,\n",
    "\n",
    "        COUNT(*) AS total_votos,\n",
    "        SUM( {tempo_voto} ) AS tempo_voto_soma,\n",
    "        SUM( {tempo_biometria} ) AS tempo_biometria_soma,\n",
    "        SUM( {tempo_voto_total} ) AS tempo_voto_total_soma,\n",
    "        \n",
    "    FROM\n",
    "        {source}\n",
    "    WHERE quantidade_votos_computados = 1\n",
    "    GROUP BY ROLLUP(turno, timestamp_voto_computado_5min, uf, zone_code, section_code)\n",
    "\"\"\""
   ]
  },
  {
   "cell_type": "markdown",
   "metadata": {},
   "source": [
    "**Salvar resultado intermediário**"
   ]
  },
  {
   "cell_type": "code",
   "execution_count": 7,
   "metadata": {},
   "outputs": [],
   "source": [
    "query = F\"\"\"\n",
    "    COPY (\n",
    "    {\n",
    "        query_metrics\n",
    "    } )\n",
    "    TO 'VOTES_TIME_METRICS_OVER_TIME.parquet' \n",
    "    (FORMAT 'parquet', PARTITION_BY (turno, uf), OVERWRITE_OR_IGNORE 1);\n",
    "\"\"\""
   ]
  },
  {
   "cell_type": "code",
   "execution_count": 8,
   "metadata": {},
   "outputs": [
    {
     "data": {
      "application/vnd.jupyter.widget-view+json": {
       "model_id": "a86d242b27054c0683c1dca6f79697d6",
       "version_major": 2,
       "version_minor": 0
      },
      "text/plain": [
       "FloatProgress(value=0.0, layout=Layout(width='auto'), style=ProgressStyle(bar_color='black'))"
      ]
     },
     "metadata": {},
     "output_type": "display_data"
    }
   ],
   "source": [
    "cursor.execute(query)"
   ]
  },
  {
   "cell_type": "markdown",
   "metadata": {},
   "source": [
    "Cálculo cumulativo das métricas"
   ]
  },
  {
   "cell_type": "code",
   "execution_count": 11,
   "metadata": {},
   "outputs": [],
   "source": [
    "TABLE_METRICS = \"\"\"read_parquet(\n",
    "    'VOTES_TIME_METRICS_OVER_TIME.parquet/*/*/*.parquet', \n",
    "    hive_partitioning=True,\n",
    "    hive_types_autocast =0\n",
    ")\n",
    "\"\"\""
   ]
  },
  {
   "cell_type": "code",
   "execution_count": 12,
   "metadata": {},
   "outputs": [],
   "source": [
    "query_cumulative_metrics = F\"\"\"\n",
    "    SELECT\n",
    "        *,\n",
    "        SUM(total_votos) OVER (PARTITION BY turno, uf, zone_code, section_code ORDER BY timestamp_voto_computado_5min) AS total_votos_cumulativo,\n",
    "        SUM(tempo_voto_soma) OVER (PARTITION BY turno, uf, zone_code, section_code ORDER BY timestamp_voto_computado_5min) AS tempo_voto_soma_cumulativo,\n",
    "        SUM(tempo_biometria_soma) OVER (PARTITION BY turno, uf, zone_code, section_code ORDER BY timestamp_voto_computado_5min) AS tempo_biometria_soma_cumulativo,\n",
    "        SUM(tempo_voto_total_soma) OVER (PARTITION BY turno, uf, zone_code, section_code ORDER BY timestamp_voto_computado_5min) AS tempo_voto_total_soma_cumulativo\n",
    "    FROM\n",
    "        {TABLE_METRICS}\n",
    "\"\"\""
   ]
  },
  {
   "cell_type": "markdown",
   "metadata": {},
   "source": [
    "Os arquivos parquet são particionados por DATA DO EVENTO, UF e GRUPO DE ZONA ELEITORAL para agilizar a leitura dos dados pelo Dashboard.\n",
    "\n",
    "As ZONAS foram agrupadas em grupos de 20, esse número é empírico."
   ]
  },
  {
   "cell_type": "code",
   "execution_count": 13,
   "metadata": {},
   "outputs": [],
   "source": [
    "query_metrics_with_zone_group = F\"\"\"\n",
    "    SELECT\n",
    "    *,\n",
    "    CASE\n",
    "        {\n",
    "            \"\".join(\n",
    "                [\n",
    "                    f\"WHEN zone_code IS NOT NULL AND zone_code::INT BETWEEN {min_zone} AND {max_zone} THEN '{min_zone}-{max_zone}' \" \n",
    "                    for min_zone, max_zone in ZONE_GROUPS\n",
    "                ]\n",
    "            )\n",
    "        }\n",
    "        ELSE 'ALL'\n",
    "    END AS zone_group\n",
    "    FROM (\n",
    "        {query_cumulative_metrics}\n",
    "    ) _\n",
    "\"\"\""
   ]
  },
  {
   "cell_type": "code",
   "execution_count": 14,
   "metadata": {},
   "outputs": [],
   "source": [
    "query = F\"\"\"\n",
    "    COPY (\n",
    "    {\n",
    "        query_metrics_with_zone_group\n",
    "    } )\n",
    "    TO 'VOTES_TIME_CUMULATIVE_METRICS_OVER_TIME.parquet' \n",
    "    (FORMAT 'parquet', PARTITION_BY (turno, uf, zone_group), OVERWRITE_OR_IGNORE 1);\n",
    "\"\"\""
   ]
  },
  {
   "cell_type": "code",
   "execution_count": 15,
   "metadata": {},
   "outputs": [
    {
     "data": {
      "application/vnd.jupyter.widget-view+json": {
       "model_id": "b9ea3c1f88764a56a54bce624acaf93e",
       "version_major": 2,
       "version_minor": 0
      },
      "text/plain": [
       "FloatProgress(value=0.0, layout=Layout(width='auto'), style=ProgressStyle(bar_color='black'))"
      ]
     },
     "metadata": {},
     "output_type": "display_data"
    },
    {
     "data": {
      "text/plain": [
       "<duckdb.duckdb.DuckDBPyConnection at 0x7f6ba1b9ed30>"
      ]
     },
     "execution_count": 15,
     "metadata": {},
     "output_type": "execute_result"
    }
   ],
   "source": [
    "cursor.execute(query)"
   ]
  }
 ],
 "metadata": {
  "kernelspec": {
   "display_name": "base",
   "language": "python",
   "name": "python3"
  },
  "language_info": {
   "codemirror_mode": {
    "name": "ipython",
    "version": 3
   },
   "file_extension": ".py",
   "mimetype": "text/x-python",
   "name": "python",
   "nbconvert_exporter": "python",
   "pygments_lexer": "ipython3",
   "version": "3.11.5"
  }
 },
 "nbformat": 4,
 "nbformat_minor": 2
}
