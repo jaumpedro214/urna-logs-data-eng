{
 "cells": [
  {
   "cell_type": "markdown",
   "metadata": {},
   "source": [
    "## Calcular o Tempo de Voto"
   ]
  },
  {
   "cell_type": "markdown",
   "metadata": {},
   "source": [
    "## Importing libraries"
   ]
  },
  {
   "cell_type": "code",
   "execution_count": 27,
   "metadata": {},
   "outputs": [],
   "source": [
    "import duckdb\n",
    "import pandas as pd\n",
    "import time"
   ]
  },
  {
   "cell_type": "markdown",
   "metadata": {},
   "source": [
    "## Importing Data"
   ]
  },
  {
   "cell_type": "code",
   "execution_count": 28,
   "metadata": {},
   "outputs": [],
   "source": [
    "cursor = duckdb.connect()"
   ]
  },
  {
   "cell_type": "code",
   "execution_count": 29,
   "metadata": {},
   "outputs": [],
   "source": [
    "TABLE = \"read_parquet('UFS_VOTE_EVENTS.parquet/*/*/*.parquet', hive_partitioning=True)\""
   ]
  },
  {
   "cell_type": "code",
   "execution_count": 30,
   "metadata": {},
   "outputs": [],
   "source": [
    "source_data = f\"\"\"\n",
    "    (\n",
    "        SELECT\n",
    "        *\n",
    "        FROM {TABLE}\n",
    "    ) AS source\n",
    "\"\"\"\n"
   ]
  },
  {
   "cell_type": "markdown",
   "metadata": {},
   "source": [
    "## Preparinga Data"
   ]
  },
  {
   "cell_type": "markdown",
   "metadata": {},
   "source": [
    "### Criando um ID único para cada voto"
   ]
  },
  {
   "cell_type": "markdown",
   "metadata": {},
   "source": [
    "Como heurística, vamos criar um id único para cada voto, que será determinado a partir de uma operação âncora.\n",
    "\n",
    "A operação servirá como marcação de que um voto foi iniciado e, todas as linhas entre uma operação âncora e a próxima, serão consideradas como um único voto."
   ]
  },
  {
   "cell_type": "code",
   "execution_count": 31,
   "metadata": {},
   "outputs": [],
   "source": [
    "ANCHOR_OPERATION = 'Aguardando digitação do título'"
   ]
  },
  {
   "cell_type": "code",
   "execution_count": 32,
   "metadata": {},
   "outputs": [],
   "source": [
    "query_create_id = f\"\"\"\n",
    "    (\n",
    "        SELECT\n",
    "            *,\n",
    "            SUM(CASE WHEN event_description = '{ANCHOR_OPERATION}' THEN 1 ELSE 0 END) \n",
    "            OVER (PARTITION BY event_date, uf, filename ORDER BY event_timestamp) AS vote_id\n",
    "        FROM {source_data}\n",
    "    ) AS query_vote_id\n",
    "\"\"\""
   ]
  },
  {
   "cell_type": "markdown",
   "metadata": {},
   "source": [
    "### Pivotando timestamp dos eventos por id"
   ]
  },
  {
   "cell_type": "code",
   "execution_count": 36,
   "metadata": {},
   "outputs": [],
   "source": [
    "timestamp_inicio_fim_voto = [\n",
    "    f'''\n",
    "        MAX(\n",
    "            CASE WHEN event_description = 'Título digitado pelo mesário' THEN event_timestamp ELSE NULL END \n",
    "        ) AS timestamp_titulo_digitado,\n",
    "    ''',\n",
    "    f'''\n",
    "        MAX(\n",
    "            CASE WHEN event_description = 'O voto do eleitor foi computado' THEN event_timestamp ELSE NULL END \n",
    "        ) AS timestamp_voto_computado\n",
    "    '''\n",
    "]"
   ]
  },
  {
   "cell_type": "code",
   "execution_count": 33,
   "metadata": {},
   "outputs": [],
   "source": [
    "VOTE_EVENTS = [\n",
    "    'Voto confirmado para [Conselheiro Distrital]',\n",
    "    'Voto confirmado para [Deputado Distrital]',\n",
    "    'Voto confirmado para [Deputado Estadual]',\n",
    "    'Voto confirmado para [Deputado Federal]',\n",
    "    'Voto confirmado para [Governador]',\n",
    "    'Voto confirmado para [Prefeito]',\n",
    "    'Voto confirmado para [Presidente]',\n",
    "    'Voto confirmado para [Senador]',\n",
    "]\n",
    "\n",
    "timestamp_vote_events = [\n",
    "    f'''\n",
    "        MAX(\n",
    "            CASE WHEN event_description = \\'{event}\\' THEN event_timestamp ELSE NULL END \n",
    "        ) AS timestamp_voto_{event.replace(\"Voto confirmado para [\", \"\").replace(\"]\", \"\").lower()}\n",
    "    '''\n",
    "    for event in VOTE_EVENTS\n",
    "]"
   ]
  },
  {
   "cell_type": "code",
   "execution_count": 35,
   "metadata": {},
   "outputs": [],
   "source": [
    "BIOMETRIA_TENTATIVAS = [\n",
    "    'Solicita digital. Tentativa [1] de [4]',\n",
    "    'Solicita digital. Tentativa [2] de [4]',\n",
    "    'Solicita digital. Tentativa [3] de [4]',\n",
    "    'Solicita digital. Tentativa [4] de [4]',\n",
    "    'Solicitação de dado pessoal do eleitor para habilitação manual',\n",
    "    'Eleitor foi habilitado'\n",
    "]\n",
    "\n",
    "timestamp_biometria_tentativas = [\n",
    "    f'''\n",
    "        MAX(\n",
    "            CASE WHEN event_description = \\'{event}\\' THEN event_timestamp ELSE NULL END \n",
    "        ) AS timestamp_biometria_{event.replace(\"Solicita digital. Tentativa [\", \"\").replace(\"] de [4]\", \"\").lower()}\n",
    "    '''\n",
    "    for event in BIOMETRIA_TENTATIVAS\n",
    "    if event != 'Solicitação de dado pessoal do eleitor para habilitação manual'\n",
    "] + [\n",
    "    f'''\n",
    "        MAX(\n",
    "            CASE WHEN event_description = \\'{BIOMETRIA_TENTATIVAS[-2]}\\' THEN event_timestamp ELSE NULL END \n",
    "        ) AS timestamp_biometria_manual\n",
    "    '''\n",
    "] + [\n",
    "    f'''\n",
    "        MAX(\n",
    "            CASE WHEN event_description = \\'{BIOMETRIA_TENTATIVAS[-1]}\\' THEN event_timestamp ELSE NULL END \n",
    "        ) AS timestamp_habilitacao_eleitor\n",
    "    '''\n",
    "]\n",
    "    "
   ]
  },
  {
   "cell_type": "code",
   "execution_count": null,
   "metadata": {},
   "outputs": [],
   "source": [
    "query_pivot_timestamps = f\"\"\"(\n",
    "    SELECT\n",
    "        event_date, uf, filename, vote_id,\n",
    "        \n",
    "        MAX(city_code) AS city_code,\n",
    "        MAX(zone_code) AS zone_code,\n",
    "        MAX(section_code) AS section_code,\n",
    "\n",
    "        SUM( (event_description='O voto do eleitor foi computado')::INT ) AS quantidade_votos_computados,\n",
    "        SUM( (event_description ILIKE 'Solicita digital%')::INT ) AS quantidade_solicitacoes_biometria,\n",
    "        SUM( (event_description ILIKE 'Voto confirmado para%')::INT ) AS quantidade_cargos_votados,\n",
    "        MAX( (event_description='Solicitação de dado pessoal do eleitor para habilitação manual')::INT ) AS biometria_nao_funcionou,\n",
    "\n",
    "        MIN( event_timestamp ) AS timestamp_primeiro_evento,\n",
    "\n",
    "        {', '.join(timestamp_vote_events)},\n",
    "        {', '.join(timestamp_biometria_tentativas)},\n",
    "        {', '.join(timestamp_inicio_fim_voto)}\n",
    "        \n",
    "    FROM {query_create_id}\n",
    "    GROUP BY event_date, uf, filename, vote_id\n",
    ") AS query_pivot_timestamps\n",
    "\"\"\""
   ]
  },
  {
   "cell_type": "markdown",
   "metadata": {},
   "source": [
    "### Salvando resultados - Parquet"
   ]
  },
  {
   "cell_type": "code",
   "execution_count": null,
   "metadata": {},
   "outputs": [],
   "source": [
    "query = F\"\"\"\n",
    "    COPY ({query_pivot_timestamps}) TO 'VOTES.parquet' (FORMAT 'parquet', PARTITION_BY (event_date, uf), OVERWRITE_OR_IGNORE 1);\n",
    "\"\"\""
   ]
  },
  {
   "cell_type": "code",
   "execution_count": null,
   "metadata": {},
   "outputs": [],
   "source": [
    "tic = time.time()\n",
    "cursor.execute(query)\n",
    "toc = time.time()\n",
    "\n",
    "print(F\"Time {toc - tic}s\")"
   ]
  }
 ],
 "metadata": {
  "kernelspec": {
   "display_name": "base",
   "language": "python",
   "name": "python3"
  },
  "language_info": {
   "codemirror_mode": {
    "name": "ipython",
    "version": 3
   },
   "file_extension": ".py",
   "mimetype": "text/x-python",
   "name": "python",
   "nbconvert_exporter": "python",
   "pygments_lexer": "ipython3",
   "version": "3.11.5"
  }
 },
 "nbformat": 4,
 "nbformat_minor": 2
}
