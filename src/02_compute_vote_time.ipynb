{
 "cells": [
  {
   "cell_type": "markdown",
   "metadata": {},
   "source": [
    "## Calcular o Tempo de Voto"
   ]
  },
  {
   "cell_type": "markdown",
   "metadata": {},
   "source": [
    "## Importing libraries"
   ]
  },
  {
   "cell_type": "code",
   "execution_count": 2,
   "metadata": {},
   "outputs": [],
   "source": [
    "import duckdb\n",
    "import pandas as pd\n",
    "import time"
   ]
  },
  {
   "cell_type": "markdown",
   "metadata": {},
   "source": [
    "## Importing Data"
   ]
  },
  {
   "cell_type": "code",
   "execution_count": 3,
   "metadata": {},
   "outputs": [],
   "source": [
    "cursor = duckdb.connect()"
   ]
  },
  {
   "cell_type": "code",
   "execution_count": 4,
   "metadata": {},
   "outputs": [
    {
     "data": {
      "text/plain": [
       "[('15.6 GiB',)]"
      ]
     },
     "execution_count": 4,
     "metadata": {},
     "output_type": "execute_result"
    }
   ],
   "source": [
    "cursor.execute(\"select current_setting('memory_limit');\").fetchall()"
   ]
  },
  {
   "cell_type": "code",
   "execution_count": 5,
   "metadata": {},
   "outputs": [],
   "source": [
    "TABLE = \"read_parquet('UFS_VOTE_EVENTS.parquet/*/*/*.parquet', hive_partitioning=True)\""
   ]
  },
  {
   "cell_type": "code",
   "execution_count": 6,
   "metadata": {},
   "outputs": [],
   "source": [
    "source_data = f\"\"\"\n",
    "    (\n",
    "        SELECT\n",
    "        *\n",
    "        FROM {TABLE}\n",
    "    ) AS source\n",
    "\"\"\"\n"
   ]
  },
  {
   "cell_type": "markdown",
   "metadata": {},
   "source": [
    "## Preparinga Data"
   ]
  },
  {
   "cell_type": "markdown",
   "metadata": {},
   "source": [
    "### Criando um ID único para cada voto"
   ]
  },
  {
   "cell_type": "markdown",
   "metadata": {},
   "source": [
    "Como heurística, vamos criar um id único para cada voto, que será determinado a partir de uma operação âncora.\n",
    "\n",
    "A operação servirá como marcação de que um voto foi iniciado e, todas as linhas entre uma operação âncora e a próxima, serão consideradas como um único voto."
   ]
  },
  {
   "cell_type": "code",
   "execution_count": 15,
   "metadata": {},
   "outputs": [],
   "source": [
    "ANCHOR_OPERATION = 'Aguardando digitação do título'\n",
    "ZONE_GROUPS = [ (0, 100), (101, 200), (201, 300), (301, 400), (401, 500) ]"
   ]
  },
  {
   "cell_type": "code",
   "execution_count": 22,
   "metadata": {},
   "outputs": [],
   "source": [
    "query_create_id = f\"\"\"\n",
    "    (\n",
    "        SELECT\n",
    "            *,\n",
    "            SUM(CASE WHEN event_description = '{ANCHOR_OPERATION}' THEN 1 ELSE 0 END) \n",
    "            OVER (PARTITION BY event_date, uf, filename ORDER BY event_timestamp) AS vote_id,\n",
    "            \n",
    "            CASE\n",
    "                {\n",
    "                    \"\".join(\n",
    "                        [\n",
    "                            f\"WHEN zone_id::INT BETWEEN {min_zone} AND {max_zone} THEN '{min_zone}-{max_zone}' \" \n",
    "                            for min_zone, max_zone in ZONE_GROUPS\n",
    "                        ]\n",
    "                    )\n",
    "                }\n",
    "            END AS zone_group\n",
    "\n",
    "        FROM {source_data}\n",
    "        WHERE \n",
    "        uf = '<uf>' \n",
    "        AND event_date = '<event_date>'\n",
    "        AND zone_id::INT BETWEEN <zone_id_min> AND <zone_id_max>\n",
    "    ) AS query_vote_id\n",
    "\"\"\""
   ]
  },
  {
   "cell_type": "markdown",
   "metadata": {},
   "source": [
    "### Pivotando timestamp dos eventos por id"
   ]
  },
  {
   "cell_type": "code",
   "execution_count": 20,
   "metadata": {},
   "outputs": [],
   "source": [
    "timestamp_inicio_fim_voto = [\n",
    "    f'''\n",
    "        MAX(\n",
    "            CASE WHEN event_description = 'Título digitado pelo mesário' THEN event_timestamp ELSE NULL END \n",
    "        ) AS timestamp_titulo_digitado\n",
    "    ''',\n",
    "    f'''\n",
    "        MAX(\n",
    "            CASE WHEN event_description = 'O voto do eleitor foi computado' THEN event_timestamp ELSE NULL END \n",
    "        ) AS timestamp_voto_computado\n",
    "    '''\n",
    "]"
   ]
  },
  {
   "cell_type": "code",
   "execution_count": 21,
   "metadata": {},
   "outputs": [],
   "source": [
    "VOTE_EVENTS = [\n",
    "    'Voto confirmado para [Conselheiro Distrital]',\n",
    "    'Voto confirmado para [Deputado Distrital]',\n",
    "    'Voto confirmado para [Deputado Estadual]',\n",
    "    'Voto confirmado para [Deputado Federal]',\n",
    "    'Voto confirmado para [Governador]',\n",
    "    'Voto confirmado para [Prefeito]',\n",
    "    'Voto confirmado para [Presidente]',\n",
    "    'Voto confirmado para [Senador]',\n",
    "]\n",
    "\n",
    "timestamp_vote_events = [\n",
    "    f'''\n",
    "        MAX(\n",
    "            CASE WHEN event_description = \\'{event}\\' THEN event_timestamp ELSE NULL END \n",
    "        ) AS timestamp_voto_{event.replace(\"Voto confirmado para [\", \"\").replace(\"]\", \"\").lower().replace(' ', '_')}\n",
    "    '''\n",
    "    for event in VOTE_EVENTS\n",
    "]"
   ]
  },
  {
   "cell_type": "code",
   "execution_count": 22,
   "metadata": {},
   "outputs": [],
   "source": [
    "BIOMETRIA_TENTATIVAS = [\n",
    "    'Solicita digital. Tentativa [1] de [4]',\n",
    "    'Solicita digital. Tentativa [2] de [4]',\n",
    "    'Solicita digital. Tentativa [3] de [4]',\n",
    "    'Solicita digital. Tentativa [4] de [4]',\n",
    "    'Solicitação de dado pessoal do eleitor para habilitação manual',\n",
    "    'Eleitor foi habilitado'\n",
    "]\n",
    "\n",
    "timestamp_biometria_tentativas = [\n",
    "    f'''\n",
    "        MAX(\n",
    "            CASE WHEN event_description = \\'{event}\\' THEN event_timestamp ELSE NULL END \n",
    "        ) AS timestamp_biometria_{event.replace(\"Solicita digital. Tentativa [\", \"\").replace(\"] de [4]\", \"\").lower()}\n",
    "    '''\n",
    "    for event in BIOMETRIA_TENTATIVAS\n",
    "    if event.startswith('Solicita digital')\n",
    "] + [\n",
    "    f'''\n",
    "        MAX(\n",
    "            CASE WHEN event_description = \\'{BIOMETRIA_TENTATIVAS[-2]}\\' THEN event_timestamp ELSE NULL END \n",
    "        ) AS timestamp_biometria_manual\n",
    "    '''\n",
    "] + [\n",
    "    f'''\n",
    "        MAX(\n",
    "            CASE WHEN event_description = \\'{BIOMETRIA_TENTATIVAS[-1]}\\' THEN event_timestamp ELSE NULL END \n",
    "        ) AS timestamp_habilitacao_eleitor\n",
    "    '''\n",
    "]\n",
    "    "
   ]
  },
  {
   "cell_type": "code",
   "execution_count": 24,
   "metadata": {},
   "outputs": [],
   "source": [
    "query_pivot_timestamps = f\"\"\"(\n",
    "    SELECT\n",
    "        event_date, uf, filename, vote_id,\n",
    "        \n",
    "        MAX(city_code) AS city_code,\n",
    "        MAX(zone_code) AS zone_code,\n",
    "        MAX(zone_group) AS zone_group,\n",
    "        MAX(section_code) AS section_code,\n",
    "\n",
    "        SUM( (event_description='O voto do eleitor foi computado')::INT ) AS quantidade_votos_computados,\n",
    "        SUM( (event_description ILIKE 'Solicita digital%')::INT ) AS quantidade_solicitacoes_biometria,\n",
    "        SUM( (event_description ILIKE 'Voto confirmado para%')::INT ) AS quantidade_cargos_votados,\n",
    "        MAX( (event_description='Solicitação de dado pessoal do eleitor para habilitação manual')::INT ) AS biometria_nao_funcionou,\n",
    "\n",
    "        MIN( event_timestamp ) AS timestamp_primeiro_evento,\n",
    "\n",
    "        {', '.join(timestamp_vote_events+timestamp_biometria_tentativas+timestamp_inicio_fim_voto)}\n",
    "        \n",
    "    FROM {query_create_id}\n",
    "    GROUP BY event_date, uf, filename, vote_id\n",
    ")\n",
    "\"\"\""
   ]
  },
  {
   "cell_type": "markdown",
   "metadata": {},
   "source": [
    "### Salvando resultados - Parquet"
   ]
  },
  {
   "cell_type": "code",
   "execution_count": 25,
   "metadata": {},
   "outputs": [],
   "source": [
    "query = F\"\"\"\n",
    "    COPY {query_pivot_timestamps} TO 'VOTES.parquet' (FORMAT 'parquet', PARTITION_BY (event_date, uf), OVERWRITE_OR_IGNORE 1);\n",
    "\"\"\""
   ]
  },
  {
   "cell_type": "code",
   "execution_count": 29,
   "metadata": {},
   "outputs": [
    {
     "name": "stdout",
     "output_type": "stream",
     "text": [
      "Processing  MG 2022-10-02\n"
     ]
    },
    {
     "data": {
      "application/vnd.jupyter.widget-view+json": {
       "model_id": "a451ea39f2464b0aaff9eef3f45d8f3f",
       "version_major": 2,
       "version_minor": 0
      },
      "text/plain": [
       "FloatProgress(value=0.0, layout=Layout(width='auto'), style=ProgressStyle(bar_color='black'))"
      ]
     },
     "metadata": {},
     "output_type": "display_data"
    },
    {
     "ename": "OutOfMemoryException",
     "evalue": "Out of Memory Error: failed to pin block of size 13.6 MiB (15.6 GiB/15.6 GiB used)",
     "output_type": "error",
     "traceback": [
      "\u001b[0;31m---------------------------------------------------------------------------\u001b[0m",
      "\u001b[0;31mOutOfMemoryException\u001b[0m                      Traceback (most recent call last)",
      "Cell \u001b[0;32mIn[29], line 27\u001b[0m\n\u001b[1;32m     25\u001b[0m \u001b[38;5;28mprint\u001b[39m(\u001b[38;5;124m\"\u001b[39m\u001b[38;5;124mProcessing \u001b[39m\u001b[38;5;124m\"\u001b[39m, uf, date)\n\u001b[1;32m     26\u001b[0m tic \u001b[38;5;241m=\u001b[39m time\u001b[38;5;241m.\u001b[39mtime()\n\u001b[0;32m---> 27\u001b[0m \u001b[43mcursor\u001b[49m\u001b[38;5;241;43m.\u001b[39;49m\u001b[43mexecute\u001b[49m\u001b[43m(\u001b[49m\u001b[43mquery\u001b[49m\u001b[43m)\u001b[49m\n\u001b[1;32m     28\u001b[0m toc \u001b[38;5;241m=\u001b[39m time\u001b[38;5;241m.\u001b[39mtime()\n\u001b[1;32m     29\u001b[0m \u001b[38;5;28mprint\u001b[39m(\u001b[38;5;124mF\u001b[39m\u001b[38;5;124m\"\u001b[39m\u001b[38;5;124mTime for \u001b[39m\u001b[38;5;132;01m{\u001b[39;00muf\u001b[38;5;132;01m}\u001b[39;00m\u001b[38;5;124m \u001b[39m\u001b[38;5;132;01m{\u001b[39;00mdate\u001b[38;5;132;01m}\u001b[39;00m\u001b[38;5;124m: \u001b[39m\u001b[38;5;132;01m{\u001b[39;00mtoc\u001b[38;5;241m-\u001b[39mtic\u001b[38;5;132;01m}\u001b[39;00m\u001b[38;5;124m\"\u001b[39m)\n",
      "\u001b[0;31mOutOfMemoryException\u001b[0m: Out of Memory Error: failed to pin block of size 13.6 MiB (15.6 GiB/15.6 GiB used)"
     ]
    }
   ],
   "source": [
    "ACCEPTED_DATES = [\n",
    "    '2022-10-02', '2022-10-30', \n",
    "    '2022-10-03', '2022-10-31',\n",
    "]\n",
    "UFS = [\n",
    "    #'AC', 'AL', 'AM', 'AP', \n",
    "    # 'BA', \n",
    "    # 'CE', 'DF', 'ES', 'GO', \n",
    "    # 'MT', 'PA', 'PB', 'PE', \n",
    "    # 'MA',\n",
    "    \n",
    "    'MG', 'MS', \n",
    "    # 'PI', 'PR', 'RJ', 'RN', \n",
    "    # 'RO', 'RR', 'RS', 'SC', \n",
    "    # 'SE', 'SP', 'TO', 'ZZ'\n",
    "]\n",
    "\n",
    "PROCESSING_TIMES = []\n",
    "\n",
    "for uf in UFS:\n",
    "    for date in ACCEPTED_DATES:\n",
    "        for zone_group in ZONE_GROUPS:\n",
    "            query = F\"\"\"\n",
    "                COPY \n",
    "                {\n",
    "                    query_pivot_timestamps\n",
    "                    .replace('<uf>', uf)\n",
    "                    .replace('<event_date>', date)\n",
    "                    .replace('<zone_id_min>', str(zone_group[0]))\n",
    "                    .replace('<zone_id_max>', str(zone_group[1]))\n",
    "                } \n",
    "                TO 'VOTES_.parquet' \n",
    "                (FORMAT 'parquet', PARTITION_BY (event_date, uf, zone_group), OVERWRITE_OR_IGNORE 1);\n",
    "            \"\"\"\n",
    "            print(\"Processing \", uf, date)\n",
    "            tic = time.time()\n",
    "            cursor.execute(query)\n",
    "            toc = time.time()\n",
    "            print(F\"Time for {uf} {date}: {toc-tic}\")\n",
    "\n",
    "            PROCESSING_TIMES.append({\n",
    "                'uf': uf,\n",
    "                'date': date,\n",
    "                'zone_group': zone_group,\n",
    "                'time': toc-tic\n",
    "            })"
   ]
  },
  {
   "cell_type": "code",
   "execution_count": null,
   "metadata": {},
   "outputs": [],
   "source": []
  }
 ],
 "metadata": {
  "kernelspec": {
   "display_name": "base",
   "language": "python",
   "name": "python3"
  },
  "language_info": {
   "codemirror_mode": {
    "name": "ipython",
    "version": 3
   },
   "file_extension": ".py",
   "mimetype": "text/x-python",
   "name": "python",
   "nbconvert_exporter": "python",
   "pygments_lexer": "ipython3",
   "version": "3.11.5"
  }
 },
 "nbformat": 4,
 "nbformat_minor": 2
}
